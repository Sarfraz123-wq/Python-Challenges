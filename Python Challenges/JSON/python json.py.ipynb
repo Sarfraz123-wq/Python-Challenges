{
 "cells": [
  {
   "cell_type": "code",
   "execution_count": 30,
   "id": "62af68c2",
   "metadata": {},
   "outputs": [
    {
     "name": "stdout",
     "output_type": "stream",
     "text": [
      "{'key1': 'value1', 'key2': 'value2'}\n",
      "value1\n",
      "{\"key1\": \"value1\", \"key2\": \"value2\"}\n"
     ]
    },
    {
     "ename": "TypeError",
     "evalue": "string indices must be integers",
     "output_type": "error",
     "traceback": [
      "\u001b[1;31m---------------------------------------------------------------------------\u001b[0m",
      "\u001b[1;31mTypeError\u001b[0m                                 Traceback (most recent call last)",
      "\u001b[1;32m<ipython-input-30-a70f1c9c57b4>\u001b[0m in \u001b[0;36m<module>\u001b[1;34m\u001b[0m\n\u001b[0;32m      8\u001b[0m \u001b[0mjsonData\u001b[0m \u001b[1;33m=\u001b[0m \u001b[0mjson\u001b[0m\u001b[1;33m.\u001b[0m\u001b[0mdumps\u001b[0m\u001b[1;33m(\u001b[0m\u001b[0mdata\u001b[0m\u001b[1;33m)\u001b[0m\u001b[1;33m\u001b[0m\u001b[1;33m\u001b[0m\u001b[0m\n\u001b[0;32m      9\u001b[0m \u001b[0mprint\u001b[0m\u001b[1;33m(\u001b[0m\u001b[0mjsonData\u001b[0m\u001b[1;33m)\u001b[0m\u001b[1;33m\u001b[0m\u001b[1;33m\u001b[0m\u001b[0m\n\u001b[1;32m---> 10\u001b[1;33m \u001b[0mprint\u001b[0m\u001b[1;33m(\u001b[0m\u001b[0mjsonData\u001b[0m\u001b[1;33m[\u001b[0m\u001b[1;34m'key1'\u001b[0m\u001b[1;33m]\u001b[0m\u001b[1;33m)\u001b[0m \u001b[1;31m# string indices must be integers\u001b[0m\u001b[1;33m\u001b[0m\u001b[1;33m\u001b[0m\u001b[0m\n\u001b[0m",
      "\u001b[1;31mTypeError\u001b[0m: string indices must be integers"
     ]
    }
   ],
   "source": [
    "'''\n",
    "Exercise 1: Convert the following dictionary into JSON format\n",
    "'''\n",
    "import json\n",
    "data = {\"key1\" : \"value1\", \"key2\" : \"value2\"}\n",
    "print(data)\n",
    "print(data['key1'])\n",
    "jsonData = json.dumps(data)\n",
    "print(jsonData)\n",
    "print(jsonData['key1']) # string indices must be integers"
   ]
  },
  {
   "cell_type": "code",
   "execution_count": 15,
   "id": "a629fb1c",
   "metadata": {},
   "outputs": [
    {
     "name": "stdout",
     "output_type": "stream",
     "text": [
      "{'key1': 'value1', 'key2': 'value2'}\n",
      "value1\n",
      "{\"key1\": \"value1\", \"key2\": \"value2\"}\n",
      "value2\n"
     ]
    }
   ],
   "source": [
    "'''\n",
    "Exercise 2: Access the value of key2 from the following JSON\n",
    "'''\n",
    "import json\n",
    "data = {\"key1\" : \"value1\", \"key2\" : \"value2\"}\n",
    "print(data)\n",
    "print(data['key1'])\n",
    "jsonData = json.dumps(data)\n",
    "print(jsonData)\n",
    "# In order to get values from json data we have to first convert it into dictionary\n",
    "dictData = json.loads(jsonData)\n",
    "print(dictData['key2'])"
   ]
  },
  {
   "cell_type": "code",
   "execution_count": 28,
   "id": "6633b5c8",
   "metadata": {},
   "outputs": [
    {
     "name": "stdout",
     "output_type": "stream",
     "text": [
      "{\n",
      "  \"key1\" = \"value2\",\n",
      "  \"key2\" = \"value2\",\n",
      "  \"key3\" = \"value3\"\n",
      "}\n"
     ]
    }
   ],
   "source": [
    "'''\n",
    "Question 3: PrettyPrint following JSON data\n",
    "\n",
    "PrettyPrint following JSON data with indent level 2 and key-value separators should be (\",\", \" = \").\n",
    "\n",
    "sampleJson = {\"key1\": \"value1\", \"key2\": \"value2\"}\n",
    "'''\n",
    "import json\n",
    "data = {\"key1\" : \"value2\", \"key2\" : \"value2\", \"key3\" : \"value3\"}\n",
    "jsondata = json.dumps(data, indent = 2, separators = (\",\",\" = \"))\n",
    "print(jsondata)"
   ]
  },
  {
   "cell_type": "code",
   "execution_count": 46,
   "id": "5e6a8fa4",
   "metadata": {},
   "outputs": [
    {
     "name": "stdout",
     "output_type": "stream",
     "text": [
      "<class 'str'>\n",
      "7000\n"
     ]
    }
   ],
   "source": [
    "'''\n",
    "Question 5: Access the nested key ‘salary’ from the following JSON\n",
    "'''\n",
    "import json\n",
    "\n",
    "sampleJson = \"\"\"{ \n",
    "   \"company\":{ \n",
    "      \"employee\":{ \n",
    "         \"name\":\"emma\",\n",
    "         \"payble\":{ \n",
    "            \"salary\":7000,\n",
    "            \"bonus\":800\n",
    "         }\n",
    "      }\n",
    "   }\n",
    "}\"\"\"\n",
    "print(type(sampleJson))\n",
    "data = json.loads(sampleJson)\n",
    "print((data['company']['employee']['payble']['salary']))"
   ]
  },
  {
   "cell_type": "code",
   "execution_count": 55,
   "id": "65ee1c5e",
   "metadata": {},
   "outputs": [
    {
     "name": "stdout",
     "output_type": "stream",
     "text": [
      "('Toyota', 'White', '50Lac')\n",
      "{\"name\": \"Toyota\", \"color\": \"White\", \"price\": \"50Lac\"}\n",
      "<class 'str'>\n"
     ]
    }
   ],
   "source": [
    "'''\n",
    "Exercise 6: Convert the following Vehicle Object into JSON\n",
    "'''\n",
    "class Vehicle:\n",
    "    def __init__(self,name,color,price):\n",
    "        self.name =  name\n",
    "        self.color = color\n",
    "        self.price = price\n",
    "    def getData(self):\n",
    "        return self.name,self.color,self.price\n",
    "vehicle1 = Vehicle(\"Toyota\",\"White\",\"50Lac\")\n",
    "print(vehicle1.getData())\n",
    "# In order to convert class object into json, first we have to convert our object into dict then into json\n",
    "jsonData = json.dumps(vehicle1.__dict__)\n",
    "print(jsonData)\n",
    "print(type(jsonData))"
   ]
  },
  {
   "cell_type": "code",
   "execution_count": null,
   "id": "dbf85a51",
   "metadata": {},
   "outputs": [],
   "source": []
  },
  {
   "cell_type": "code",
   "execution_count": 74,
   "id": "67e1d70c",
   "metadata": {},
   "outputs": [
    {
     "name": "stdout",
     "output_type": "stream",
     "text": [
      "<class 'str'>\n",
      "<class 'list'>\n",
      "['name1', 'name2']\n"
     ]
    }
   ],
   "source": [
    "'''\n",
    "Exercise 9: Parse the following JSON to get all the values of a key ‘name’ within an array\n",
    "'''\n",
    "jsonData = \"\"\"[ \n",
    "   { \n",
    "      \"id\":1,\n",
    "      \"name\":\"name1\",\n",
    "      \"color\":[ \n",
    "         \"red\",\n",
    "         \"green\"\n",
    "      ]\n",
    "   },\n",
    "   { \n",
    "      \"id\":2,\n",
    "      \"name\":\"name2\",\n",
    "      \"color\":[ \n",
    "         \"pink\",\n",
    "         \"yellow\"\n",
    "      ]\n",
    "   }\n",
    "]\"\"\"\n",
    "print(type(jsonData))\n",
    "data = json.loads(jsonData)\n",
    "print(type(data))\n",
    "myNames = []\n",
    "for i in data:\n",
    "    myNames.append(i.get(\"name\"))\n",
    "print(myNames)"
   ]
  },
  {
   "cell_type": "code",
   "execution_count": null,
   "id": "29c202fc",
   "metadata": {},
   "outputs": [],
   "source": []
  }
 ],
 "metadata": {
  "kernelspec": {
   "display_name": "Python 3",
   "language": "python",
   "name": "python3"
  },
  "language_info": {
   "codemirror_mode": {
    "name": "ipython",
    "version": 3
   },
   "file_extension": ".py",
   "mimetype": "text/x-python",
   "name": "python",
   "nbconvert_exporter": "python",
   "pygments_lexer": "ipython3",
   "version": "3.8.8"
  }
 },
 "nbformat": 4,
 "nbformat_minor": 5
}
