{
 "cells": [
  {
   "cell_type": "code",
   "execution_count": 10,
   "id": "1b71cc7d",
   "metadata": {},
   "outputs": [
    {
     "name": "stdout",
     "output_type": "stream",
     "text": [
      "150 1000\n"
     ]
    }
   ],
   "source": [
    "'''\n",
    "OOP Exercise 1: Create a Vehicle class with max_speed and mileage instance attributes\n",
    "'''\n",
    "class Vehicle:\n",
    "    def __init__(self,max_speed,mileage):\n",
    "        self.max_speed = max_speed\n",
    "        self.mileage = mileage\n",
    "car = Vehicle(150,1000)     \n",
    "print(car.max_speed,car.mileage)"
   ]
  },
  {
   "cell_type": "code",
   "execution_count": 11,
   "id": "0b5921a0",
   "metadata": {},
   "outputs": [],
   "source": [
    "'''\n",
    "OOP Exercise 2: Create a Vehicle class without any variables and methods\n",
    "'''\n",
    "class Vehicle:\n",
    "    pass"
   ]
  },
  {
   "cell_type": "code",
   "execution_count": 49,
   "id": "123d3b31",
   "metadata": {},
   "outputs": [
    {
     "name": "stdout",
     "output_type": "stream",
     "text": [
      "('Civic', 150, 1000)\n"
     ]
    }
   ],
   "source": [
    "'''\n",
    "OOP Exercise 3: Create a child class Bus that will inherit all of the variables and methods of the Vehicle class\n",
    "'''\n",
    "class Vehicle:\n",
    "\n",
    "    def __init__(self, name, max_speed, mileage):\n",
    "        self.name = name\n",
    "        self.max_speed = max_speed\n",
    "        self.mileage = mileage\n",
    "    def vehicleData(self):\n",
    "        return self.name,self.max_speed,self.mileage\n",
    "class Bus(Vehicle):\n",
    "#     def __init__(self,brand):\n",
    "#         self.brand = brand\n",
    "#     def busData(self):\n",
    "#         return self.brand\n",
    "    pass\n",
    "# v1 = Vehicle(\"Civic\",150,1000)    \n",
    "# print(v1.vehicleData())\n",
    "# b1 = Bus(\"Toyota\")\n",
    "# print(b1.busData())\n",
    "# print(b1.vehicleData())\n",
    "b1 = Bus(\"Civic\",150,1000)\n",
    "print(b1.vehicleData())"
   ]
  },
  {
   "cell_type": "code",
   "execution_count": 64,
   "id": "c4b83e79",
   "metadata": {},
   "outputs": [
    {
     "name": "stdout",
     "output_type": "stream",
     "text": [
      "The seating capacity of a City is 5 passengers\n",
      "The seating capacity of a Toyota is 50 passengers\n"
     ]
    }
   ],
   "source": [
    "'''\n",
    "OOP Exercise 4: Class Inheritance\n",
    "\n",
    "Given:\n",
    "\n",
    "Create a Bus class that inherits from the Vehicle class. Give the capacity argument of Bus.seating_capacity() a default value of 50.\n",
    "\n",
    "Use the following code for your parent Vehicle class. You need to use method overriding.\n",
    "'''\n",
    "class Vehicle:\n",
    "    def __init__(self, name, max_speed, mileage):\n",
    "        self.name = name\n",
    "        self.max_speed = max_speed\n",
    "        self.mileage = mileage\n",
    "\n",
    "    def seating_capacity(self, capacity):\n",
    "        return f\"The seating capacity of a {self.name} is {capacity} passengers\"\n",
    "class Bus(Vehicle):\n",
    "    def seating_capacity(self,capacity=50):\n",
    "        return f\"The seating capacity of a {self.name} is {capacity} passengers\"\n",
    "v1 = Vehicle(\"City\",140,3000)\n",
    "print(v1.seating_capacity(5))\n",
    "b1 = Bus(\"Toyota\",160,10000)    \n",
    "print(b1.seating_capacity())"
   ]
  },
  {
   "cell_type": "code",
   "execution_count": 71,
   "id": "c623bcc9",
   "metadata": {},
   "outputs": [
    {
     "name": "stdout",
     "output_type": "stream",
     "text": [
      "('Toyota', 140, 5000)\n",
      "white\n",
      "('Toyota', 140, 5000)\n",
      "white\n",
      "('Toyota', 140, 5000)\n",
      "white\n"
     ]
    }
   ],
   "source": [
    "'''\n",
    "OOP Exercise 5: Define property that should have the same value for every class instance\n",
    "\n",
    "Define a class attribute”color” with a default value white. I.e., Every Vehicle should be white.\n",
    "\n",
    "Use the following code for this exercise.\n",
    "'''\n",
    "class Vehicle:\n",
    "    color = 'white'\n",
    "    def __init__(self, name, max_speed, mileage):\n",
    "        self.name = name\n",
    "        self.max_speed = max_speed\n",
    "        self.mileage = mileage\n",
    "    def getData(self):\n",
    "        return self.name,self.max_speed,self.mileage\n",
    "class Bus(Vehicle):\n",
    "    pass\n",
    "\n",
    "class Car(Vehicle):\n",
    "    pass\n",
    "v1 = Vehicle(\"Toyota\",140,5000)\n",
    "print(v1.getData())\n",
    "print(v1.color)\n",
    "b1 = Bus(\"Toyota\",140,5000)\n",
    "print(b1.getData())\n",
    "print(b1.color)\n",
    "c1 = Car(\"Toyota\",140,5000)\n",
    "print(c1.getData())\n",
    "print(c1.color)"
   ]
  },
  {
   "cell_type": "code",
   "execution_count": 85,
   "id": "d6d82eaf",
   "metadata": {},
   "outputs": [
    {
     "name": "stdout",
     "output_type": "stream",
     "text": [
      "The fear of this vehicle is Rs. 1000\n",
      "The fear of this vehicle is Rs. 500\n",
      "The fear of this vehicle is Rs. 5500.0\n"
     ]
    }
   ],
   "source": [
    "'''\n",
    "OOP Exercise 6: Class Inheritance\n",
    "\n",
    "Given:\n",
    "\n",
    "Create a Bus child class that inherits from the Vehicle class. The default fare charge of any vehicle is seating capacity * 100. If Vehicle is Bus instance, we need to add an extra 10% on full fare as a maintenance charge. So total fare for bus instance will become the final amount = total fare + 10% of the total fare.\n",
    "\n",
    "Note: The bus seating capacity is 50. so the final fare amount should be 5500. You need to override the fare() method of a Vehicle class in Bus class.\n",
    "'''\n",
    "class Vehicle:\n",
    "    def __init__(self, name, mileage, seating_capacity):\n",
    "        self.name = name\n",
    "        self.mileage = mileage\n",
    "        self.seating_capacity = seating_capacity\n",
    "    def fear(self):\n",
    "        fearCharge = self.seating_capacity * 100\n",
    "        return fearCharge\n",
    "class Car(Vehicle):\n",
    "    pass\n",
    "class Bus(Vehicle):\n",
    "    def fear(self):        \n",
    "        fearCharge = (self.seating_capacity * 100)\n",
    "        maintenance = (fearCharge * 10)/100\n",
    "        totalCharge = fearCharge + maintenance\n",
    "        return totalCharge\n",
    "        \n",
    "v1 = Vehicle(10)\n",
    "c1 = Car(5)\n",
    "b1 = Bus(50)\n",
    "print(\"The fear of this vehicle is Rs.\",v1.fear())\n",
    "print(\"The fear of this vehicle is Rs.\",c1.fear())\n",
    "print(\"The fear of this vehicle is Rs.\",b1.fear())\n"
   ]
  },
  {
   "cell_type": "code",
   "execution_count": 88,
   "id": "fc1da9bf",
   "metadata": {},
   "outputs": [
    {
     "name": "stdout",
     "output_type": "stream",
     "text": [
      "School Volvo\n",
      "<class '__main__.Bus'>\n"
     ]
    }
   ],
   "source": [
    "'''\n",
    "OOP Exercise 7: Determine which class a given Bus object belongs to (Check type of an object)\n",
    "'''\n",
    "class Vehicle:\n",
    "    def __init__(self, name, mileage, capacity):\n",
    "        self.name = name\n",
    "        self.mileage = mileage\n",
    "        self.capacity = capacity\n",
    "\n",
    "class Bus(Vehicle):\n",
    "    pass\n",
    "\n",
    "School_bus = Bus(\"School Volvo\", 12, 50)\n",
    "print(School_bus.name)\n",
    "print(type(School_bus))"
   ]
  },
  {
   "cell_type": "code",
   "execution_count": 92,
   "id": "d7a8ea93",
   "metadata": {},
   "outputs": [
    {
     "name": "stdout",
     "output_type": "stream",
     "text": [
      "True\n"
     ]
    }
   ],
   "source": [
    "'''\n",
    "OOP Exercise 8: Determine if School_bus is also an instance of the Vehicle class\n",
    "'''\n",
    "class Vehicle:\n",
    "    def __init__(self, name, mileage, capacity):\n",
    "        self.name = name\n",
    "        self.mileage = mileage\n",
    "        self.capacity = capacity\n",
    "\n",
    "class Bus(Vehicle):\n",
    "    pass\n",
    "\n",
    "School_bus = Bus(\"School Volvo\", 12, 50)\n",
    "print(isinstance(School_bus,Vehicle))"
   ]
  },
  {
   "cell_type": "code",
   "execution_count": null,
   "id": "7792ade0",
   "metadata": {},
   "outputs": [],
   "source": []
  }
 ],
 "metadata": {
  "kernelspec": {
   "display_name": "Python 3",
   "language": "python",
   "name": "python3"
  },
  "language_info": {
   "codemirror_mode": {
    "name": "ipython",
    "version": 3
   },
   "file_extension": ".py",
   "mimetype": "text/x-python",
   "name": "python",
   "nbconvert_exporter": "python",
   "pygments_lexer": "ipython3",
   "version": "3.8.8"
  }
 },
 "nbformat": 4,
 "nbformat_minor": 5
}
