{
 "cells": [
  {
   "cell_type": "code",
   "execution_count": 15,
   "id": "d007596a",
   "metadata": {},
   "outputs": [
    {
     "name": "stdout",
     "output_type": "stream",
     "text": [
      "1020\n"
     ]
    }
   ],
   "source": [
    "#Exercise 1: Calculate the multiplication and sum of two numbers\n",
    "#Given two integer numbers return their product only if the product is greater than 1000, else return their sum.\n",
    "\n",
    "# num1 = int(input(\"Please give number 1 :\"))\n",
    "# num2 = int(input(\"Please give number 2 :\"))\n",
    "\n",
    "# if(num1 * num2 > 1000):\n",
    "#     result = num1*num2\n",
    "#     print(result)\n",
    "# else:\n",
    "#     result = num1+num2\n",
    "#     print(result)\n",
    "def mulSum(num1,num2):\n",
    "    product = num1*num2\n",
    "    if(product > 1000):                \n",
    "        print(product)\n",
    "    else:        \n",
    "        sum = num1+num2\n",
    "        print(sum)\n",
    "mulSum(30,34)    \n"
   ]
  },
  {
   "cell_type": "code",
   "execution_count": 30,
   "id": "57a8f5b8",
   "metadata": {},
   "outputs": [
    {
     "name": "stdout",
     "output_type": "stream",
     "text": [
      "0\n",
      "1\n",
      "3\n",
      "5\n",
      "7\n",
      "9\n",
      "11\n",
      "13\n",
      "15\n",
      "17\n"
     ]
    }
   ],
   "source": [
    "# Exercise 2: Print the sum of the current number and the previous number\n",
    "sum=0\n",
    "for currentNumber in range(10):\n",
    "    if(currentNumber==0):\n",
    "        print(0)\n",
    "    else:\n",
    "        previousNumber = currentNumber-1    \n",
    "        sum = currentNumber + previousNumber\n",
    "        print(sum)\n",
    "    "
   ]
  },
  {
   "cell_type": "code",
   "execution_count": 41,
   "id": "74a88887",
   "metadata": {},
   "outputs": [
    {
     "name": "stdout",
     "output_type": "stream",
     "text": [
      "P\n",
      "k\n",
      "s\n",
      "a\n",
      " \n",
      "i\n",
      "d\n",
      "b\n",
      "d\n",
      "P\n",
      "n\n",
      "t\n",
      "v\n"
     ]
    }
   ],
   "source": [
    "# Exercise 3: Print characters from a string that are present at an even index number\n",
    "\n",
    "def myFunction(str):\n",
    "#     print(str)\n",
    "    for i in range(len(str)):\n",
    "        if i %2 ==0:\n",
    "            print(str[i])\n",
    "\n",
    "    \n",
    "\n",
    "myFunction(\"Pakistan Zindabad\") \n",
    "myFunction(\"Pynative\") "
   ]
  },
  {
   "cell_type": "code",
   "execution_count": 49,
   "id": "3b206c9c",
   "metadata": {},
   "outputs": [
    {
     "name": "stdout",
     "output_type": "stream",
     "text": [
      "Original string is :  Sab kaho Pakistan Zindabad\n",
      "After removing first n characters :  kaho Pakistan Zindabad\n",
      "removed characters are :  Sab \n"
     ]
    }
   ],
   "source": [
    "# Exercise 4: Remove first n characters from a string \n",
    "\n",
    "def myFunction(str,n):\n",
    "    print(\"Original string is : \",str)\n",
    "    remove = str[0:n]    \n",
    "    print(\"After removing first n characters : \",str[n:])\n",
    "    print(\"removed characters are : \",remove)\n",
    "myFunction(\"Sab kaho Pakistan Zindabad\",4)    "
   ]
  },
  {
   "cell_type": "code",
   "execution_count": 57,
   "id": "3f143d1c",
   "metadata": {},
   "outputs": [
    {
     "name": "stdout",
     "output_type": "stream",
     "text": [
      "They are same\n",
      "They are not same\n"
     ]
    }
   ],
   "source": [
    "# Exercise 5: Check if the first and last number of a list is the same\n",
    "\n",
    "# numbers_x = [10, 20, 30, 40, 10]\n",
    "def myFunction(numbers):\n",
    "    \n",
    "    if numbers[0] == numbers[-1]:\n",
    "        print(\"They are same\")\n",
    "    else:\n",
    "        print(\"They are not same\")\n",
    "numbers1 = [10, 20, 30, 40, 10];\n",
    "myFunction(numbers1)        \n",
    "\n",
    "numbers2 = [10, 20, 30, 40, 40];\n",
    "myFunction(numbers2)        "
   ]
  },
  {
   "cell_type": "code",
   "execution_count": 63,
   "id": "738ba423",
   "metadata": {},
   "outputs": [
    {
     "name": "stdout",
     "output_type": "stream",
     "text": [
      "5\n",
      "10\n",
      "15\n",
      "20\n",
      "----------------\n",
      "10\n"
     ]
    }
   ],
   "source": [
    "# Exercise 6: Display numbers divisible by 5 from a list\n",
    "\n",
    "\n",
    "def divisibleByFive(num):\n",
    "    for i in num:\n",
    "        if(i %5==0):\n",
    "            print(i)\n",
    "numbers1 = [2,5,1,10,12,15,18,20]\n",
    "divisibleByFive(numbers1) \n",
    "print(\"----------------\")\n",
    "numbers2 = [1,3,6,10,12,17,18,22]\n",
    "divisibleByFive(numbers2) \n"
   ]
  },
  {
   "cell_type": "code",
   "execution_count": 2,
   "id": "836cc905",
   "metadata": {},
   "outputs": [
    {
     "name": "stdout",
     "output_type": "stream",
     "text": [
      "3\n"
     ]
    }
   ],
   "source": [
    "# Exercise 7: Return the count of a given substring from a string\n",
    "def myFunction(str,searchStr):\n",
    "    print(str.count(searchStr))\n",
    "\n",
    "myFunction(\"Hey, Sarfraz Here, My name is Sarfraz and my friend's name is also Sarfraz \", \"Sarfraz\")\n"
   ]
  },
  {
   "cell_type": "code",
   "execution_count": 1,
   "id": "f3fe1cf2",
   "metadata": {},
   "outputs": [
    {
     "name": "stdout",
     "output_type": "stream",
     "text": [
      "\n",
      "\n",
      "1 \n",
      "\n",
      "2 2 \n",
      "\n",
      "3 3 3 \n",
      "\n",
      "4 4 4 4 \n",
      "\n"
     ]
    }
   ],
   "source": [
    "# Exercise 8: Print the following pattern\n",
    "for i in range(5):\n",
    "    for j in range(i):\n",
    "        print(i, end=\" \")\n",
    "    print(\"\\n\")\n",
    "\n"
   ]
  },
  {
   "cell_type": "code",
   "execution_count": 4,
   "id": "3192419f",
   "metadata": {},
   "outputs": [
    {
     "name": "stdout",
     "output_type": "stream",
     "text": [
      "Enter the integer number: 151\n",
      "This is a palindrome number\n"
     ]
    }
   ],
   "source": [
    "# Exercise 9: Check Palindrome Number\n",
    "\n",
    "# Ask for enter the number from the use  \n",
    "number = int(input(\"Enter the integer number: \"))  \n",
    "originalNum = number\n",
    "# Initiate value to null  \n",
    "revs_number = 0  \n",
    "  \n",
    "# reverse the integer number using the while loop  \n",
    "  \n",
    "while (number > 0):  \n",
    "    # Logic  \n",
    "    remainder = number % 10  \n",
    "    revs_number = (revs_number * 10) + remainder  \n",
    "    number = number // 10  \n",
    "  \n",
    "# Display the result  \n",
    "# print(\"The reverse number is : {}\".format(revs_number)) \n",
    "\n",
    "if revs_number == originalNum:\n",
    "    print(\"This is a palindrome number\")\n",
    "else:\n",
    "    print(\"This is not a palindrome number\")"
   ]
  },
  {
   "cell_type": "code",
   "execution_count": 21,
   "id": "b66cbbcd",
   "metadata": {},
   "outputs": [
    {
     "name": "stdout",
     "output_type": "stream",
     "text": [
      "[1, 3, 5, 6, 8, 10]\n",
      "[11, 13, 16, 18]\n"
     ]
    }
   ],
   "source": [
    "#Exercise 10: Create a new list from a two list using the following condition\n",
    "#write a program to create a new list such that the new list should contain odd numbers from the first list and even numbers from the second list.\n",
    "\n",
    "\n",
    "def listFun(list1,list2):\n",
    "    odd = []\n",
    "    even = []\n",
    "    list3 = []\n",
    "    for i in list1:\n",
    "        if i%2!=0:\n",
    "            odd.append(i)\n",
    "# print(odd)  \n",
    "    for i in list2:\n",
    "        if i%2==0:\n",
    "            even.append(i)\n",
    "# print(even)  \n",
    "\n",
    "# list3.append(odd)\n",
    "# list3.append(even)\n",
    "# print(list3)\n",
    "    for i in odd:\n",
    "        list3.append(i)\n",
    "# print(list3) \n",
    "    for i in even:\n",
    "        list3.append(i)\n",
    "    print(list3) \n",
    "listOne = [1,2,3,4,5]\n",
    "listTwo = [6,7,8,9,10]   \n",
    "listFun(listOne,listTwo)\n",
    "\n",
    "listThree = [11,12,13,14]\n",
    "listFour = [15,16,17,18]   \n",
    "listFun(listThree,listFour)"
   ]
  },
  {
   "cell_type": "code",
   "execution_count": 40,
   "id": "f2ce59eb",
   "metadata": {},
   "outputs": [
    {
     "name": "stdout",
     "output_type": "stream",
     "text": [
      "1 : 1 2 3 4 5 6 7 8 9 10 \n",
      "\n",
      "2 : 2 4 6 8 10 12 14 16 18 20 \n",
      "\n",
      "3 : 3 6 9 12 15 18 21 24 27 30 \n",
      "\n",
      "4 : 4 8 12 16 20 24 28 32 36 40 \n",
      "\n",
      "5 : 5 10 15 20 25 30 35 40 45 50 \n",
      "\n",
      "6 : 6 12 18 24 30 36 42 48 54 60 \n",
      "\n",
      "7 : 7 14 21 28 35 42 49 56 63 70 \n",
      "\n",
      "8 : 8 16 24 32 40 48 56 64 72 80 \n",
      "\n",
      "9 : 9 18 27 36 45 54 63 72 81 90 \n",
      "\n",
      "10 : 10 20 30 40 50 60 70 80 90 100 \n",
      "\n"
     ]
    }
   ],
   "source": [
    "# Exercise 11: Print multiplication table form 1 to 10\n",
    "\n",
    "for i in range(10):\n",
    "    print(i+1, end=\" : \")\n",
    "    for j in range(10):\n",
    "        table = (i+1)*(j+1)\n",
    "        print(table, end=\" \")\n",
    "    print(\"\\n\")    "
   ]
  },
  {
   "cell_type": "code",
   "execution_count": 43,
   "id": "18c79d35",
   "metadata": {},
   "outputs": [
    {
     "name": "stdout",
     "output_type": "stream",
     "text": [
      "Give number 1 : 5\n",
      "Give number 2 : 6\n",
      "The product is  30\n"
     ]
    }
   ],
   "source": [
    "#Exercise 1: Accept numbers from a user\n",
    "# Write a program to accept two numbers from the user and calculate multiplication\n",
    "\n",
    "num1 = int(input(\"Give number 1 : \"))\n",
    "num2 = int(input(\"Give number 2 : \"))\n",
    "mult = num1 * num2\n",
    "print(\"The product is \",mult)"
   ]
  },
  {
   "cell_type": "code",
   "execution_count": 48,
   "id": "4d9031c3",
   "metadata": {},
   "outputs": [
    {
     "name": "stdout",
     "output_type": "stream",
     "text": [
      "Name**Is**James\n"
     ]
    }
   ],
   "source": [
    "# Exercise 2: Display three string “Name”, “Is”, “James” as “Name**Is**James”\n",
    "def myFunction(str1,str2,str3):\n",
    "    print(str1, end=\"**\")\n",
    "    print(str2, end=\"**\")\n",
    "    print(str3)\n",
    "myFunction('Name', 'Is', 'James')    "
   ]
  },
  {
   "cell_type": "code",
   "execution_count": 68,
   "id": "9d8a0f28",
   "metadata": {},
   "outputs": [
    {
     "name": "stdout",
     "output_type": "stream",
     "text": [
      "24\n"
     ]
    }
   ],
   "source": [
    "#Exercise 3: Convert Decimal number to octal using print() output formatting\n",
    "def toOcta(decimal):\n",
    "    print('%o' % decimal)\n",
    "toOcta(20)"
   ]
  },
  {
   "cell_type": "code",
   "execution_count": 4,
   "id": "d707d307",
   "metadata": {},
   "outputs": [
    {
     "name": "stdout",
     "output_type": "stream",
     "text": [
      "458.54\n"
     ]
    }
   ],
   "source": [
    "# Exercise 4: Display float number with 2 decimal places\n",
    "def roundToTwo(num):\n",
    "    print(round(num,2))\n",
    "roundToTwo(458.541315)    "
   ]
  },
  {
   "cell_type": "code",
   "execution_count": 21,
   "id": "c6626657",
   "metadata": {},
   "outputs": [
    {
     "name": "stdout",
     "output_type": "stream",
     "text": [
      "How many elements : 5\n",
      "1\n",
      "2\n",
      "3\n",
      "4\n",
      "5\n",
      "[1, 2, 3, 4, 5]\n",
      "The sum of all elements is  15\n"
     ]
    }
   ],
   "source": [
    "# Exercise 5: Ask how many number of elements from user and print the sum of all input numbers.\n",
    "list = []\n",
    "sum=0;\n",
    "n = int(input(\"How many elements : \"))\n",
    "\n",
    "for i in range(n):\n",
    "    element = int(input())\n",
    "    list.append(element)\n",
    "    sum = sum + element\n",
    "print(list)    \n",
    "print(\"The sum of all elements is \",sum)"
   ]
  },
  {
   "cell_type": "code",
   "execution_count": 29,
   "id": "8565dc13",
   "metadata": {},
   "outputs": [
    {
     "name": "stdout",
     "output_type": "stream",
     "text": [
      "Give any three names : sarfraz tahir basit\n",
      "Name 1 : sarfraz\n",
      "Name 2 : tahir\n",
      "Name 3 : basit\n"
     ]
    }
   ],
   "source": [
    "'''\n",
    "Exercise 7: Accept any three string from one input() call\n",
    "Write a program to take three names as input from a user in the single input() function call. \n",
    "Enter three string Emma Jessa Kelly\n",
    "Name1: Emma\n",
    "Name2: Jessa\n",
    "Name3: Kelly\n",
    "'''\n",
    "inp = input(\"Give any three names : \");\n",
    "names = inp.split(\" \")\n",
    "# print(names)\n",
    "index = 0\n",
    "for i in names:\n",
    "    index = index + 1\n",
    "    print(\"Name\",index,\":\",i)"
   ]
  },
  {
   "cell_type": "code",
   "execution_count": 32,
   "id": "4c7ef247",
   "metadata": {},
   "outputs": [
    {
     "name": "stdout",
     "output_type": "stream",
     "text": [
      "I have 1000 dollars so I can buy 3 football for 450 dollars.\n"
     ]
    }
   ],
   "source": [
    "# Exercise 8: Format variables using a string.format() method.\n",
    "# Write a program to use string.format() method to format the following three variables as per the expected output\n",
    "\n",
    "totalMoney = 1000\n",
    "quantity = 3\n",
    "price = 450\n",
    "str = \"I have {0} dollars so I can buy {1} football for {2} dollars.\"\n",
    "print(str.format(totalMoney,quantity,price))\n"
   ]
  },
  {
   "cell_type": "code",
   "execution_count": 42,
   "id": "806814f2",
   "metadata": {},
   "outputs": [
    {
     "name": "stdout",
     "output_type": "stream",
     "text": [
      "45\n",
      "75\n",
      "150\n",
      "145\n",
      "50\n"
     ]
    }
   ],
   "source": [
    "'''\n",
    "Write a program to display only those numbers from a list that satisfy the following conditions\n",
    "    The number must be divisible by five\n",
    "    If the number is greater than 150, then skip it and move to the next number\n",
    "    If the number is greater than 500, then stop the loop\n",
    "\n",
    "'''\n",
    "\n",
    "def myFunction(num):\n",
    "    for i in num:\n",
    "#     print(i)\n",
    "        if i%5==0:\n",
    "            if i > 150:\n",
    "                continue\n",
    "            if i > 500:\n",
    "                break;\n",
    "            else:\n",
    "                print(i)\n",
    "numbers = [12, 75, 150, 180, 145, 525, 50]\n",
    "numbers2 = [12,45, 75, 150, 180, 145, 525, 50]\n",
    "myFunction(numbers2)                "
   ]
  },
  {
   "cell_type": "code",
   "execution_count": 76,
   "id": "0568e504",
   "metadata": {},
   "outputs": [
    {
     "name": "stdout",
     "output_type": "stream",
     "text": [
      "5\n"
     ]
    }
   ],
   "source": [
    "'''\n",
    "Exercise 6: Count the total number of digits in a number\n",
    "\n",
    "Write a program to count the total number of digits in a number using a while loop.\n",
    "For example, the number is 75869, so the output should be 5.\n",
    "\n",
    "'''\n",
    "\n",
    "\n",
    "def giveAnyNumber(num):\n",
    "    count=0\n",
    "    while num!=0:        \n",
    "        num = num // 10;\n",
    "        count = count + 1\n",
    "    print(count)    \n",
    "giveAnyNumber(75869)"
   ]
  },
  {
   "cell_type": "code",
   "execution_count": 105,
   "id": "ca165b6a",
   "metadata": {},
   "outputs": [
    {
     "name": "stdout",
     "output_type": "stream",
     "text": [
      "50\n",
      "40\n",
      "30\n",
      "20\n",
      "10\n"
     ]
    }
   ],
   "source": [
    "# Exercise 8: Print list in reverse order using a loop\n",
    "list1 = [10, 20, 30, 40, 50]\n",
    "length = len(list1)-1\n",
    "for i in range(len(list1)):\n",
    "    print(list1[length-i])\n",
    "    "
   ]
  },
  {
   "cell_type": "code",
   "execution_count": 106,
   "id": "d4fc064b",
   "metadata": {},
   "outputs": [
    {
     "name": "stdout",
     "output_type": "stream",
     "text": [
      "-10\n",
      "-9\n",
      "-8\n",
      "-7\n",
      "-6\n",
      "-5\n",
      "-4\n",
      "-3\n",
      "-2\n",
      "-1\n"
     ]
    }
   ],
   "source": [
    "#Exercise 9: Display numbers from -10 to -1 using for loop\n",
    "for i in range(-10,0,1):\n",
    "    print(i)"
   ]
  },
  {
   "cell_type": "code",
   "execution_count": 1,
   "id": "250de4b1",
   "metadata": {},
   "outputs": [
    {
     "name": "stdout",
     "output_type": "stream",
     "text": [
      "0\n",
      "1\n",
      "2\n",
      "3\n",
      "4\n",
      "5\n",
      "6\n",
      "7\n",
      "8\n",
      "9\n",
      "done\n"
     ]
    }
   ],
   "source": [
    "# Exercise 10: Use else block to display a message “Done” after successful execution of for loop\n",
    "for i in range(10):\n",
    "    print(i)\n",
    "else:\n",
    "    print('done')"
   ]
  },
  {
   "cell_type": "code",
   "execution_count": 19,
   "id": "6d6bb72c",
   "metadata": {},
   "outputs": [
    {
     "name": "stdout",
     "output_type": "stream",
     "text": [
      "1\n",
      "2\n",
      "3\n",
      "4\n",
      "5\n",
      "6\n",
      "7\n",
      "8\n",
      "9\n",
      "10\n",
      "11\n",
      "12\n",
      "13\n",
      "14\n",
      "15\n",
      "16\n",
      "17\n",
      "18\n",
      "19\n",
      "20\n",
      "21\n",
      "22\n",
      "23\n",
      "24\n",
      "25\n",
      "26\n",
      "27\n",
      "28\n",
      "29\n"
     ]
    }
   ],
   "source": [
    "# Exercise 11: Write a program to display all prime numbers within a range\n",
    "for i in range(1,30,1):\n",
    "    if(i>0):\n",
    "        for j in range(2,i,1):\n",
    "            if i%j==0:\n",
    "                print(i)\n",
    "                break;\n",
    "        else:\n",
    "            print(i)"
   ]
  },
  {
   "cell_type": "code",
   "execution_count": 45,
   "id": "e09a4dcc",
   "metadata": {},
   "outputs": [
    {
     "name": "stdout",
     "output_type": "stream",
     "text": [
      "How many terms? 10\n",
      "Generate Fibonancii series \n",
      "0\n",
      "1\n",
      "1\n",
      "2\n",
      "3\n",
      "5\n",
      "8\n",
      "13\n",
      "21\n",
      "34\n"
     ]
    }
   ],
   "source": [
    "# Exercise 12: Display Fibonacci series up to 10 terms\n",
    "'''\n",
    "The Fibonacci Sequence is a series of numbers. The next number is found by adding up the two numbers before it. The first two numbers are 0 and 1.\n",
    "For example, 0, 1, 1, 2, 3, 5, 8, 13, 21. The next number in this series above is 13+21 = 34.\n",
    "'''\n",
    "nth = int(input(\"How many terms? \"))\n",
    "\n",
    "n1,n2 = 0,1\n",
    "count=0\n",
    "\n",
    "if nth<0:\n",
    "    print(\"Please enter positive number\")\n",
    "elif nth==0:\n",
    "    print(n1)\n",
    "else:\n",
    "    print(\"Generate Fibonacii series \")\n",
    "    while count < nth:\n",
    "        print(n1)\n",
    "        currentTotal = n1 + n2\n",
    "#         update values\n",
    "        n1 = n2\n",
    "        n2 = currentTotal\n",
    "        count = count + 1"
   ]
  },
  {
   "cell_type": "code",
   "execution_count": 47,
   "id": "445e11d8",
   "metadata": {},
   "outputs": [],
   "source": [
    "# Exercise 13: Find the factorial of a given number\n",
    "\n",
    "    \n",
    "    "
   ]
  },
  {
   "cell_type": "code",
   "execution_count": 53,
   "id": "fe8fa48b",
   "metadata": {},
   "outputs": [
    {
     "name": "stdout",
     "output_type": "stream",
     "text": [
      "20\n",
      "40\n",
      "60\n",
      "80\n",
      "100\n"
     ]
    }
   ],
   "source": [
    "# Exercise 15: Use a loop to display elements from a given list present at odd index positions\n",
    "my_list = [10, 20, 30, 40, 50, 60, 70, 80, 90, 100]\n",
    "for i in range(len(my_list)):    \n",
    "#     print(i, \"=\",my_list[i])\n",
    "    if(i%2!=0):\n",
    "        print(my_list[i])"
   ]
  },
  {
   "cell_type": "code",
   "execution_count": 59,
   "id": "28f6720b",
   "metadata": {},
   "outputs": [
    {
     "name": "stdout",
     "output_type": "stream",
     "text": [
      "Current number is  0  and cube is  0\n",
      "Current number is  1  and cube is  1\n",
      "Current number is  2  and cube is  8\n",
      "Current number is  3  and cube is  27\n",
      "Current number is  4  and cube is  64\n",
      "Current number is  5  and cube is  125\n",
      "Current number is  6  and cube is  216\n"
     ]
    }
   ],
   "source": [
    "# Exercise 16: Calculate the cube of all numbers from 1 to a given number\n",
    "def cube(n):\n",
    "    start = 0\n",
    "#     print(n**3)\n",
    "    while start <= n:\n",
    "        print(\"Current number is \",start,\" and cube is \",start**3)\n",
    "        start = start + 1\n",
    "cube(6)"
   ]
  },
  {
   "cell_type": "code",
   "execution_count": 79,
   "id": "23145a37",
   "metadata": {},
   "outputs": [
    {
     "name": "stdout",
     "output_type": "stream",
     "text": [
      "10\n",
      "20\n",
      "30\n",
      "The sum of all arguments is  60\n",
      "40\n",
      "50\n",
      "The sum of all arguments is  90\n"
     ]
    }
   ],
   "source": [
    "'''\n",
    "Create a function in such a way that we can pass any number of arguments to this function and the function should process them and display each argument’s value and get sum of all arguments.\n",
    "'''\n",
    "def fun(*args):\n",
    "    sum=0\n",
    "    for i in range(len(args)):\n",
    "        print(args[i])\n",
    "        sum = sum + args[i]\n",
    "    else:\n",
    "        print(\"The sum of all arguments is \",sum)\n",
    "fun(10,20,30)\n",
    "fun(40,50)\n"
   ]
  },
  {
   "cell_type": "code",
   "execution_count": 83,
   "id": "c4594878",
   "metadata": {},
   "outputs": [
    {
     "name": "stdout",
     "output_type": "stream",
     "text": [
      "(50, 30)\n"
     ]
    }
   ],
   "source": [
    "'''\n",
    "Exercise 3: Return multiple values from a function\n",
    "Write a program to create function calculation() such that it can accept two variables and calculate addition and subtraction. Also, it must return both addition and subtraction in a single return call.\n",
    "'''\n",
    "\n",
    "def calculation(num1,num2):\n",
    "    return num1 + num2, num1 - num2\n",
    "# print(calculation(40,30))\n",
    "result = calculation(40,10)\n",
    "print(result)"
   ]
  },
  {
   "cell_type": "code",
   "execution_count": 91,
   "id": "74b12d49",
   "metadata": {},
   "outputs": [
    {
     "name": "stdout",
     "output_type": "stream",
     "text": [
      "('Sarfraz', 10000)\n",
      "('Tahir', 9000)\n"
     ]
    }
   ],
   "source": [
    "# Exercise 4: Create a function with default argument\n",
    "'''\n",
    "Write a program to create a function show_employee() using the following conditions.\n",
    "    It should accept the employee’s name and salary and display both.\n",
    "    If the salary is missing in the function call then assign default value 9000 to salary\n",
    "'''\n",
    "def show_employee(name,salary=9000):\n",
    "    return name,salary\n",
    "emp1 = show_employee(\"Sarfraz\",10000)\n",
    "print(emp1)\n",
    "emp1 = show_employee(\"Tahir\")\n",
    "print(emp1)"
   ]
  },
  {
   "cell_type": "code",
   "execution_count": 121,
   "id": "fa552258",
   "metadata": {},
   "outputs": [
    {
     "name": "stdout",
     "output_type": "stream",
     "text": [
      "75\n"
     ]
    }
   ],
   "source": [
    "# Exercise 5: Create an inner function to calculate the addition in the following way\n",
    "'''\n",
    "    Create an outer function that will accept two parameters, a and b\n",
    "    Create an inner function inside an outer function that will calculate the addition of a and b\n",
    "    At last, an outer function will add 5 into addition and return it\n",
    "'''\n",
    "def outer(a,b):\n",
    "    def inner(c,d):\n",
    "        return c + d        \n",
    "    innerResult = inner(a,b)\n",
    "    return innerResult + 5\n",
    "print(outer(50,20))\n",
    "        "
   ]
  },
  {
   "cell_type": "code",
   "execution_count": 16,
   "id": "2dffc1b4",
   "metadata": {},
   "outputs": [
    {
     "name": "stdout",
     "output_type": "stream",
     "text": [
      "('Sarfraz', 21)\n",
      "('Tahir', 22)\n"
     ]
    }
   ],
   "source": [
    "'''\n",
    "Exercise 7: Assign a different name to function and call it through the new name\n",
    "Below is the function display_student(name, age). Assign a new name show_student(name, age) to it and call it using the new name.\n",
    "''' \n",
    "def display_student(name, age):\n",
    "    return name,age\n",
    "show_student = display_student\n",
    "# Now we can use both names\n",
    "fun1 = display_student(\"Sarfraz\",21)\n",
    "fun2 = show_student(\"Tahir\",22)\n",
    "print(fun1)\n",
    "print(fun2)"
   ]
  },
  {
   "cell_type": "code",
   "execution_count": 32,
   "id": "b58daeba",
   "metadata": {},
   "outputs": [
    {
     "name": "stdout",
     "output_type": "stream",
     "text": [
      "[4, 6, 8, 10, 12, 14, 16, 18, 20, 22, 24, 26, 28]\n"
     ]
    }
   ],
   "source": [
    "# Exercise 8: Generate a Python list of all the even numbers between 4 to 30\n",
    "\n",
    "myList = []\n",
    "def generateList(start,ends):\n",
    "    for i in range(start,ends):\n",
    "        if i % 2==0:\n",
    "            myList.append(i)\n",
    "generateList(4,30)\n",
    "print(myList)        "
   ]
  },
  {
   "cell_type": "code",
   "execution_count": 37,
   "id": "6b4f6171",
   "metadata": {},
   "outputs": [
    {
     "name": "stdout",
     "output_type": "stream",
     "text": [
      "24\n"
     ]
    }
   ],
   "source": [
    "#Exercise 9: Find the largest item from a given list\n",
    "\n",
    "# x = [4, 6, 8, 24, 12, 2]\n",
    "# print(max(x))\n",
    "def maxLst(n):\n",
    "    print(max(n))\n",
    "x = [4, 6, 8, 24, 12, 2]\n",
    "maxLst(x)    "
   ]
  },
  {
   "cell_type": "code",
   "execution_count": 100,
   "id": "50d480a2",
   "metadata": {},
   "outputs": [
    {
     "name": "stdout",
     "output_type": "stream",
     "text": [
      "Sfz\n"
     ]
    }
   ],
   "source": [
    "# Write a program to create a new string made of an input string’s first, middle, and last character.\n",
    "def myFun(name):\n",
    "    # name = \"Sarfraz\"\n",
    "    first = name[0]\n",
    "    # print((len(name)//2))\n",
    "    middle = name[(len(name)//2)]\n",
    "    last = name[-1]\n",
    "    # print(first)\n",
    "    # print(middle)\n",
    "    # print(last)\n",
    "    newName = first + middle + last\n",
    "    print(newName)\n",
    "\n",
    "myFun(\"Sarfraz\")"
   ]
  },
  {
   "cell_type": "code",
   "execution_count": 99,
   "id": "c95fbde9",
   "metadata": {},
   "outputs": [
    {
     "name": "stdout",
     "output_type": "stream",
     "text": [
      "AuKellylt\n",
      "SarRasheedfraz\n"
     ]
    }
   ],
   "source": [
    "'''\n",
    "Exercise 2: Append new string in the middle of a given string\n",
    "\n",
    "Given two strings, s1 and s2. Write a program to create a new string s3 by appending s2 in the middle of s1.\n",
    "'''\n",
    "def myFun(name1,name2):\n",
    "#     name1 = \"Ault\"\n",
    "#     name2 = \"Kelly\"\n",
    "    # first finding the middle of s1\n",
    "    middle = len(name1)//2\n",
    "    # print(middle)\n",
    "    name1All = name1[:]\n",
    "    name2All = name2[:]\n",
    "    name3 = name1[:middle] + name2All + name1[middle:]\n",
    "    print(name3)\n",
    "\n",
    "myFun(\"Ault\",\"Kelly\")\n",
    "myFun(\"Sarfraz\",\"Rasheed\")"
   ]
  },
  {
   "cell_type": "code",
   "execution_count": 143,
   "id": "45c89472",
   "metadata": {},
   "outputs": [
    {
     "name": "stdout",
     "output_type": "stream",
     "text": [
      "PyNaTive\n",
      "yaivePNT\n",
      "sarFraZ\n",
      "sarraFZ\n"
     ]
    }
   ],
   "source": [
    "'''\n",
    "Exercise 4: Arrange string characters such that lowercase letters should come first\n",
    "\n",
    "Given string contains a combination of the lower and upper case letters. Write a program to arrange the characters of a string so that all lowercase letters should come first.\n",
    "\n",
    "Given:\n",
    "\n",
    "str1 = PyNaTive\n",
    "'''\n",
    "def myFun(str1):\n",
    "    # str1 = \"PyNaTive\"\n",
    "    # Before\n",
    "    print(str1)\n",
    "    lowerString = ''\n",
    "    upperString = ''\n",
    "    for i in str1:\n",
    "        if(i.islower()):\n",
    "            lowerString = lowerString + i\n",
    "        else:\n",
    "            upperString = upperString + i\n",
    "\n",
    "    newString = lowerString + upperString\n",
    "    str1 = newString\n",
    "    # After\n",
    "    print(str1)\n",
    "\n",
    "myFun(\"PyNaTive\")\n",
    "myFun(\"sarFraZ\")"
   ]
  },
  {
   "cell_type": "code",
   "execution_count": 146,
   "id": "d2cd9958",
   "metadata": {},
   "outputs": [
    {
     "name": "stdout",
     "output_type": "stream",
     "text": [
      "Characters are : 8\n",
      "Digits are : 3\n",
      "Special Characters are : 4\n",
      "Characters are : 15\n",
      "Digits are : 2\n",
      "Special Characters are : 4\n"
     ]
    }
   ],
   "source": [
    "'''\n",
    "Exercise 5: Count all letters, digits, and special symbols from a given string\n",
    "\n",
    "Given:\n",
    "\n",
    "str1 = \"P@#yn26at^&i5ve\"\n",
    "'''\n",
    "def myFun(str1):\n",
    "#     str1 = \"P@#yn26at^&i5ve\"\n",
    "    alph,digit,special = 0,0,0\n",
    "    for i in str1:\n",
    "        if i.isalpha():\n",
    "            alph = alph + 1\n",
    "        elif i.isdigit():\n",
    "            digit = digit + 1\n",
    "        else:\n",
    "            special = special + 1\n",
    "    print(\"Characters are :\",alph)\n",
    "    print(\"Digits are :\",digit)\n",
    "    print(\"Special Characters are :\",special)\n",
    "myFun(\"P@#yn26at^&i5ve\")\n",
    "myFun(\"SarfrazR12Rasheed$*/-\")"
   ]
  },
  {
   "cell_type": "code",
   "execution_count": 172,
   "id": "af214cd8",
   "metadata": {},
   "outputs": [
    {
     "name": "stdout",
     "output_type": "stream",
     "text": [
      "azbycx\n",
      "162534\n"
     ]
    }
   ],
   "source": [
    "'''\n",
    "Exercise 6: Create a mixed String using the following rules\n",
    "Given two strings, s1 and s2. Write a program to create a new string s3 made of the first char of s1, then the last char of s2, Next, the second char of s1 and second last char of s2, and so on. Any leftover chars go at the end of the result.\n",
    "\n",
    "'''\n",
    "def myFun(str1,str2):\n",
    "#     str1 = \"abc\"\n",
    "#     str2 = \"xyz\"\n",
    "    str3 = ''\n",
    "    str2R = str2[::-1]\n",
    "#     print(str2R)\n",
    "    for i in range(len(str1)):\n",
    "    #     print(str2R[i])\n",
    "        str3 = str3 + str1[i] + str2R[i]    \n",
    "    print(str3)\n",
    "myFun(\"abc\",\"xyz\")\n",
    "myFun(\"123\",\"456\")\n"
   ]
  },
  {
   "cell_type": "code",
   "execution_count": 201,
   "id": "287aa213",
   "metadata": {},
   "outputs": [
    {
     "name": "stdout",
     "output_type": "stream",
     "text": [
      "False\n",
      "True\n"
     ]
    }
   ],
   "source": [
    "'''\n",
    "Exercise 7: String characters balance Test\n",
    "\n",
    "Write a program to check if two strings are balanced. For example, strings s1 and s2 are balanced if all the characters in the s1 are present in s2. The character’s position doesn’t matter.\n",
    "'''\n",
    "\n",
    "\n",
    "def balaceString(str1,str2):\n",
    "    flag = True\n",
    "    for i in str1:\n",
    "        if i in str2:\n",
    "            continue\n",
    "        else:\n",
    "            flag = False\n",
    "    return flag \n",
    "\n",
    "print(balaceString(\"sx\",\"sarfraz\"))\n",
    "print(balaceString(\"sm\",\"sarmad\"))\n"
   ]
  },
  {
   "cell_type": "code",
   "execution_count": 209,
   "id": "84cb9bd2",
   "metadata": {},
   "outputs": [
    {
     "name": "stdout",
     "output_type": "stream",
     "text": [
      "2\n",
      "2\n"
     ]
    }
   ],
   "source": [
    "'''\n",
    "Exercise 8: Find all occurrences of a substring in a given string by ignoring the case\n",
    "\n",
    "Write a program to find all occurrences of “USA” in a given string ignoring the case. \n",
    "'''\n",
    "def myFun(str1,substr):\n",
    "#     str1 = \"Welcome to USA. usa awesome, isn't it?\"\n",
    "    str1Lower = str1.lower()\n",
    "    # print(str1Lower)\n",
    "    print(str1Lower.count(substr))\n",
    "myFun(\"Welcome to USA. usa awesome, isn't it?\",\"usa\")\n",
    "myFun(\"Hey,Sarfraz here! My name is SARFRAZ RASHEED\", \"sarfraz\")\n"
   ]
  },
  {
   "cell_type": "code",
   "execution_count": 220,
   "id": "405dd897",
   "metadata": {},
   "outputs": [
    {
     "name": "stdout",
     "output_type": "stream",
     "text": [
      "The sum is 38\n",
      "The Avg is 6.333333333333333\n"
     ]
    }
   ],
   "source": [
    "'''\n",
    "Exercise 9: Calculate the sum and average of the digits present in a string\n",
    "\n",
    "Given a string s1, write a program to return the sum and average of the digits that appear in the string, ignoring all other characters.\n",
    "\n",
    "'''\n",
    "# str1 = \"PYnative29@#8496\"\n",
    "def sumAvg(str1):\n",
    "    sum=0\n",
    "    noOfDigits = 0\n",
    "    for i in range(len(str1)):    \n",
    "        if str1[i].isdigit():        \n",
    "            noOfDigits = noOfDigits + 1\n",
    "            sum = sum + int(str1[i])        \n",
    "    print(\"The sum is\",sum)\n",
    "    # print(noOfDigits)\n",
    "    print(\"The Avg is\", sum/noOfDigits)\n",
    "sumAvg(\"PYnative29@#8496\")    "
   ]
  },
  {
   "cell_type": "code",
   "execution_count": 220,
   "id": "ac4bd201",
   "metadata": {},
   "outputs": [
    {
     "name": "stdout",
     "output_type": "stream",
     "text": [
      "{'s': 1, 'a': 2, 'r': 2, 'f': 1, 'z': 1}\n"
     ]
    }
   ],
   "source": [
    "'''\n",
    "Exercise 10: Write a program to count occurrences of all characters within a string\n",
    "str1 = \"Apple\"\n",
    "Expected Outcome:\n",
    "\n",
    "'A': 1, 'p': 2, 'p': 1, 'e': 1\n",
    "\n",
    "'''\n",
    "def fun(str1):    \n",
    "    result = {}\n",
    "    for i in str1:\n",
    "        counter = str1.count(i)\n",
    "        result[i] = counter\n",
    "    print(result)\n",
    "fun(\"sarfraz\")\n",
    "\n",
    "\n",
    "    \n",
    "    \n",
    "    \n",
    "    "
   ]
  },
  {
   "cell_type": "code",
   "execution_count": 199,
   "id": "c642f52e",
   "metadata": {},
   "outputs": [
    {
     "name": "stdout",
     "output_type": "stream",
     "text": [
      "['e', 'v', 'i', 't', 'a', 'n', 'Y', 'P']\n",
      "evitanYP\n",
      "evitanYP\n"
     ]
    }
   ],
   "source": [
    "'''\n",
    "Exercise 11: Reverse a given string\n",
    "\n",
    "Given:\n",
    "\n",
    "str1 = \"PYnative\"\n",
    "'''\n",
    "def fun(str1):\n",
    "#     str1 = \"PYnative\"\n",
    "    print(list(reversed(str1)))\n",
    "    print(''.join(reversed(str1)))\n",
    "    reverse = str1[::-1]\n",
    "    print(reverse)\n",
    "str1 = \"PYnative\"\n",
    "fun(str1)    "
   ]
  },
  {
   "cell_type": "code",
   "execution_count": 200,
   "id": "178324fe",
   "metadata": {},
   "outputs": [
    {
     "name": "stdout",
     "output_type": "stream",
     "text": [
      "Last occurrence of Emma starts at index  43\n",
      "Last occurrence of scientist starts at index  97\n"
     ]
    }
   ],
   "source": [
    "'''\n",
    "Exercise 12: Find the last position of a given substring\n",
    "\n",
    "Write a program to find the last position of a substring “Emma” in a given string.\n",
    "\n",
    "Given:\n",
    "\n",
    "str1 = \"Emma is a data scientist who knows Python. Emma works at google.\"\n",
    "'''\n",
    "def fun(str1,substr):\n",
    "    # str1 = \"Emma is a data scientist who knows Python. Emma works at google.\"\n",
    "\n",
    "    lastIndex = str1.rfind(substr)\n",
    "    print(\"Last occurrence of\",substr,\"starts at index \",lastIndex)\n",
    "str1 = \"Emma is a data scientist who knows Python. Emma works at google.\"\n",
    "substr1 = \"Emma\"\n",
    "str2 = \"Sarfraz is a data scientist who knows Python. Sarfraz will work at google In Sha Allah as a data scientist.\"\n",
    "substr2 = \"scientist\"\n",
    "fun(str1,substr1)\n",
    "fun(str2,substr2)\n"
   ]
  },
  {
   "cell_type": "code",
   "execution_count": 126,
   "id": "9e0388a1",
   "metadata": {},
   "outputs": [
    {
     "name": "stdout",
     "output_type": "stream",
     "text": [
      "['Emma', 'Jon', 'Kelly', 'Eric']\n",
      "['Emma', 'Jon', 'Kelly', 'Eric']\n"
     ]
    }
   ],
   "source": [
    "'''\n",
    "Exercise 14: Remove empty strings from a list of strings\n",
    "\n",
    "Given:\n",
    "\n",
    "str_list = [\"Emma\", \"Jon\", \"\", \"Kelly\", None, \"Eric\", \"\"]\n",
    "\n",
    "'''\n",
    "lst = [\"Emma\", \"Jon\", \"\", None, \"Kelly\", \"Eric\", \"\"]\n",
    "newlst = []\n",
    "# lst.remove(\"\")\n",
    "# lst.remove(\"\")\n",
    "# lst.remove(None)\n",
    "for i in lst:\n",
    "    if i:        \n",
    "        newlst.append(i)\n",
    "print(newlst)        \n",
    "\n",
    "# Solution 2: Using the built-in function filter()\n",
    "\n",
    "newlst2 = list(filter(None,lst))\n",
    "print(newlst2)"
   ]
  },
  {
   "cell_type": "code",
   "execution_count": 159,
   "id": "026434bd",
   "metadata": {},
   "outputs": [
    {
     "name": "stdout",
     "output_type": "stream",
     "text": [
      "Jon is developer  musician\n"
     ]
    }
   ],
   "source": [
    "'''\n",
    "Exercise 15: Remove special symbols / punctuation from a string\n",
    "\n",
    "Given:\n",
    "\n",
    "str1 = \"/*Jon is @developer & musician\"\n",
    "\n",
    "'''\n",
    "import re\n",
    "str1 = \"/*Jon is @developer & musician\"\n",
    "# Only keep:\n",
    "# Letters a-z, A-Z\n",
    "# Dots (.)\n",
    "# Numbers (\\d)\n",
    "# Non white space (\\s)\n",
    "# ^ means other than the provided patterns\n",
    "# need to be substituted by an empty string\n",
    "str1 = re.sub('[^a-z-A-Z-\\s]','',str1)\n",
    "\n",
    "print(str1)"
   ]
  },
  {
   "cell_type": "code",
   "execution_count": 165,
   "id": "6a020c78",
   "metadata": {},
   "outputs": [
    {
     "name": "stdout",
     "output_type": "stream",
     "text": [
      "2510\n"
     ]
    }
   ],
   "source": [
    "# Exercise 16: Removal all characters from a string except integers\n",
    "str1 = 'I am 25 years and 10 months old'\n",
    "# Solution 1\n",
    "# onlyDigits = re.sub('[^0-9]','',str1)\n",
    "# print(onlyDigits)\n",
    "# Solution 2\n",
    "newStr = ''\n",
    "for i in range(len(str1)):\n",
    "    if str1[i].isdigit():\n",
    "        #print(str1[i])\n",
    "        newStr = newStr + str1[i]\n",
    "print(newStr)        "
   ]
  },
  {
   "cell_type": "code",
   "execution_count": 184,
   "id": "734a5d3b",
   "metadata": {},
   "outputs": [
    {
     "name": "stdout",
     "output_type": "stream",
     "text": [
      "Emma25\n",
      "scientist50\n"
     ]
    }
   ],
   "source": [
    "'''\n",
    "Exercise 17: Find words with both alphabets and numbers\n",
    "str1 = \"Emma25 is Data scientist50 and AI Expert\"\n",
    "'''\n",
    "\n",
    "str1 = \"Emma25 is Data scientist50 and AI Expert\"\n",
    "# First break string into words by separating with space\n",
    "sp = str1.split(\" \");\n",
    "for i in range(len(sp)):\n",
    "    if sp[i].isalnum() and not sp[i].isalpha() and not sp[i].isdigit():\n",
    "        print(sp[i])\n",
    "        \n"
   ]
  },
  {
   "cell_type": "code",
   "execution_count": 191,
   "id": "e1addcd5",
   "metadata": {},
   "outputs": [
    {
     "name": "stdout",
     "output_type": "stream",
     "text": [
      "##Jon is #developer # musician##\n"
     ]
    }
   ],
   "source": [
    "# Exercise 18: Replace each special symbol with # in the following string\n",
    "str1 = '/*Jon is @developer & musician!!'\n",
    "print(re.sub('[^a-zA-Z\\d\\s]','#',str1))\n",
    "    \n"
   ]
  },
  {
   "cell_type": "code",
   "execution_count": null,
   "id": "eb427b73",
   "metadata": {},
   "outputs": [],
   "source": []
  }
 ],
 "metadata": {
  "kernelspec": {
   "display_name": "Python 3",
   "language": "python",
   "name": "python3"
  },
  "language_info": {
   "codemirror_mode": {
    "name": "ipython",
    "version": 3
   },
   "file_extension": ".py",
   "mimetype": "text/x-python",
   "name": "python",
   "nbconvert_exporter": "python",
   "pygments_lexer": "ipython3",
   "version": "3.8.8"
  }
 },
 "nbformat": 4,
 "nbformat_minor": 5
}
