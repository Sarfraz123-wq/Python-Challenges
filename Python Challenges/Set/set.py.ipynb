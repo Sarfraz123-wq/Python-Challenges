{
 "cells": [
  {
   "cell_type": "code",
   "execution_count": 7,
   "id": "b941496f",
   "metadata": {},
   "outputs": [
    {
     "name": "stdout",
     "output_type": "stream",
     "text": [
      "{'Black', 'Green', 'Red', 'Blue', 'Orange', 'Yellow'}\n"
     ]
    }
   ],
   "source": [
    "'''\n",
    "Exercise 1: Add a list of elements to a given set\n",
    "\n",
    "Given:\n",
    "\n",
    "sampleSet = {\"Yellow\", \"Orange\", \"Black\"}\n",
    "sampleList = [\"Blue\", \"Green\", \"Red\"]\n",
    "\n",
    "Expected output:\n",
    "\n",
    "Note: Set is unordered.\n",
    "\n",
    "{'Green', 'Yellow', 'Black', 'Orange', 'Red', 'Blue'}\n",
    "'''\n",
    "sampleSet = {\"Yellow\", \"Orange\", \"Black\"}\n",
    "sampleList = [\"Blue\", \"Green\", \"Red\"]\n",
    "combo = list(sampleSet) + sampleList\n",
    "print(set(combo))"
   ]
  },
  {
   "cell_type": "code",
   "execution_count": 8,
   "id": "ea868767",
   "metadata": {},
   "outputs": [
    {
     "name": "stdout",
     "output_type": "stream",
     "text": [
      "{40, 50, 30}\n"
     ]
    }
   ],
   "source": [
    "'''\n",
    "Exercise 2: Return a new set of identical items from a given two set\n",
    "\n",
    "set1 = {10, 20, 30, 40, 50}\n",
    "set2 = {30, 40, 50, 60, 70}\n",
    "\n",
    "Expected output:\n",
    "\n",
    "{40, 50, 30}\n",
    "\n",
    "'''\n",
    "set1 = {10, 20, 30, 40, 50}\n",
    "set2 = {30, 40, 50, 60, 70}\n",
    "print(set1.intersection(set2))"
   ]
  },
  {
   "cell_type": "code",
   "execution_count": 9,
   "id": "c2a83cc3",
   "metadata": {},
   "outputs": [
    {
     "name": "stdout",
     "output_type": "stream",
     "text": [
      "{70, 40, 10, 50, 20, 60, 30}\n"
     ]
    }
   ],
   "source": [
    "'''\n",
    "Exercise 3: Returns a new set with all items from both sets by removing duplicates\n",
    "\n",
    "set1 = {10, 20, 30, 40, 50}\n",
    "set2 = {30, 40, 50, 60, 70}\n",
    "\n",
    "Expected output:\n",
    "\n",
    "{70, 40, 10, 50, 20, 60, 30}\n",
    "'''\n",
    "set1 = {10, 20, 30, 40, 50}\n",
    "set2 = {30, 40, 50, 60, 70}\n",
    "print(set1.union(set2))"
   ]
  },
  {
   "cell_type": "code",
   "execution_count": 13,
   "id": "0547951f",
   "metadata": {},
   "outputs": [
    {
     "name": "stdout",
     "output_type": "stream",
     "text": [
      "{10, 30}\n"
     ]
    }
   ],
   "source": [
    "'''\n",
    "Exercise 4: Given two Python sets, update the first set with items that exist only in the first set and not in the second set.\n",
    "\n",
    "set1 = {10, 20, 30}\n",
    "set2 = {20, 40, 50}\n",
    "\n",
    "Expected output:\n",
    "\n",
    "set1 {10, 30}\n",
    "'''\n",
    "\n",
    "set1 = {10, 20, 30}\n",
    "set2 = {20, 40, 50}\n",
    "print(set1.difference(set2))"
   ]
  },
  {
   "cell_type": "code",
   "execution_count": 18,
   "id": "ab4fe3e9",
   "metadata": {},
   "outputs": [
    {
     "name": "stdout",
     "output_type": "stream",
     "text": [
      "{40, 50}\n"
     ]
    }
   ],
   "source": [
    "'''\n",
    "Exercise 5: Remove items 10, 20, 30 from the following set at once\n",
    "\n",
    "set1 = {10, 20, 30, 40, 50}\n",
    "\n",
    "Expected output:\n",
    "\n",
    "{40, 50}\n",
    "'''\n",
    "set1 = {10, 20, 30, 40, 50}\n",
    "# set1.remove(10)\n",
    "# set1.remove(20)\n",
    "# set1.remove(30)\n",
    "set1.difference_update({10,20,30})\n",
    "print(set1)"
   ]
  },
  {
   "cell_type": "code",
   "execution_count": 1,
   "id": "e4c0bf4c",
   "metadata": {},
   "outputs": [
    {
     "name": "stdout",
     "output_type": "stream",
     "text": [
      "{20, 70, 10, 60}\n"
     ]
    }
   ],
   "source": [
    "'''\n",
    "Exercise 6: Return a set of all elements in either A or B, but not both\n",
    "\n",
    "set1 = {10, 20, 30, 40, 50}\n",
    "set2 = {30, 40, 50, 60, 70}\n",
    "\n",
    "Expected output:\n",
    "\n",
    "{20, 70, 10, 60}\n",
    "'''\n",
    "set1 = {10, 20, 30, 40, 50}\n",
    "set2 = {30, 40, 50, 60, 70}\n",
    "print(set1.symmetric_difference(set2))"
   ]
  },
  {
   "cell_type": "code",
   "execution_count": 2,
   "id": "4ec1561b",
   "metadata": {},
   "outputs": [
    {
     "name": "stdout",
     "output_type": "stream",
     "text": [
      "{10}\n"
     ]
    }
   ],
   "source": [
    "'''\n",
    "Exercise 7: Check if two sets have any elements in common. If yes, display the common elements.\n",
    "\n",
    "set1 = {10, 20, 30, 40, 50}\n",
    "set2 = {60, 70, 80, 90, 10}\n",
    "\n",
    "Expected output:\n",
    "\n",
    "Two sets have items in common\n",
    "{10}\n",
    "'''\n",
    "set1 = {10, 20, 30, 40, 50}\n",
    "set2 = {60, 70, 80, 90, 10}\n",
    "print(set1.intersection(set2))"
   ]
  },
  {
   "cell_type": "code",
   "execution_count": 3,
   "id": "8a3add24",
   "metadata": {},
   "outputs": [
    {
     "name": "stdout",
     "output_type": "stream",
     "text": [
      "{20, 70, 10, 60}\n"
     ]
    }
   ],
   "source": [
    "'''\n",
    "Exercise 8: Update set1 by adding items from set2, except common items\n",
    "\n",
    "set1 = {10, 20, 30, 40, 50}\n",
    "set2 = {30, 40, 50, 60, 70}\n",
    "\n",
    "Expected output:\n",
    "\n",
    "{70, 10, 20, 60}\n",
    "'''\n",
    "set1 = {10, 20, 30, 40, 50}\n",
    "set2 = {30, 40, 50, 60, 70}\n",
    "print(set1.symmetric_difference(set2))\n"
   ]
  },
  {
   "cell_type": "code",
   "execution_count": 4,
   "id": "5c868ce0",
   "metadata": {},
   "outputs": [
    {
     "name": "stdout",
     "output_type": "stream",
     "text": [
      "{40, 50, 30}\n"
     ]
    }
   ],
   "source": [
    "'''\n",
    "Exercise 9: Remove items from set1 that are not common to both set1 and set2\n",
    "\n",
    "set1 = {10, 20, 30, 40, 50}\n",
    "set2 = {30, 40, 50, 60, 70}\n",
    "\n",
    "Expected output:\n",
    "\n",
    "{40, 50, 30}\n",
    "'''\n",
    "set1 = {10, 20, 30, 40, 50}\n",
    "set2 = {30, 40, 50, 60, 70}\n",
    "set1.intersection_update(set2)\n",
    "print(set1)"
   ]
  },
  {
   "cell_type": "code",
   "execution_count": null,
   "id": "4aed2bd6",
   "metadata": {},
   "outputs": [],
   "source": []
  }
 ],
 "metadata": {
  "kernelspec": {
   "display_name": "Python 3",
   "language": "python",
   "name": "python3"
  },
  "language_info": {
   "codemirror_mode": {
    "name": "ipython",
    "version": 3
   },
   "file_extension": ".py",
   "mimetype": "text/x-python",
   "name": "python",
   "nbconvert_exporter": "python",
   "pygments_lexer": "ipython3",
   "version": "3.8.8"
  }
 },
 "nbformat": 4,
 "nbformat_minor": 5
}
