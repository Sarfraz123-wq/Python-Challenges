{
 "cells": [
  {
   "cell_type": "code",
   "execution_count": 16,
   "id": "6e916cbc",
   "metadata": {},
   "outputs": [
    {
     "name": "stdout",
     "output_type": "stream",
     "text": [
      "335,410,180,"
     ]
    }
   ],
   "source": [
    "'''\n",
    "Exercise 1: Generate 3 random integers between 100 and 999 which is divisible by 5\n",
    "'''\n",
    "\n",
    "import random\n",
    "for i in range(0,3):\n",
    "    numbers = random.randrange(100,999,5)\n",
    "    print(numbers, end=\",\")"
   ]
  },
  {
   "cell_type": "code",
   "execution_count": 28,
   "id": "604d753d",
   "metadata": {},
   "outputs": [
    {
     "name": "stdout",
     "output_type": "stream",
     "text": [
      "980\n",
      "875\n",
      "974\n",
      "489\n",
      "117\n",
      "716\n",
      "932\n",
      "456\n",
      "287\n",
      "146\n",
      "Lucky winners are  [125, 83]\n"
     ]
    }
   ],
   "source": [
    "'''\n",
    "Exercise 2: Random Lottery Pick. Generate 10 random lottery tickets and pick two lucky tickets from it as a winner.\n",
    "\n",
    "Note you must adhere to the following conditions:\n",
    "\n",
    "    The lottery number must be 3 digits long.\n",
    "    All 10 ticket number must be unique.\n",
    "'''\n",
    "import random\n",
    "for i in range(10):\n",
    "    numbers = random.randint(100,999)\n",
    "    print(numbers)\n",
    "    winners = random.sample(range(numbers),2)\n",
    "print(\"Lucky winners are \",winners)"
   ]
  },
  {
   "cell_type": "code",
   "execution_count": 41,
   "id": "a9fcb37d",
   "metadata": {},
   "outputs": [
    {
     "name": "stdout",
     "output_type": "stream",
     "text": [
      "698943\n"
     ]
    }
   ],
   "source": [
    "'''\n",
    "Exercise 3: Generate 6 digit random secure OTP\n",
    "'''\n",
    "import secrets\n",
    "# extra code for secret number i.e secrets.SystemRandom()\n",
    "print(secrets.SystemRandom().randrange(100000,999999))"
   ]
  },
  {
   "cell_type": "code",
   "execution_count": 44,
   "id": "2665fbd6",
   "metadata": {},
   "outputs": [
    {
     "name": "stdout",
     "output_type": "stream",
     "text": [
      "z\n"
     ]
    }
   ],
   "source": [
    "'''\n",
    "Exercise 4: Pick a random character from a given String\n",
    "'''\n",
    "import random\n",
    "name = \"Sarfraz\"\n",
    "character = random.choice(name)\n",
    "print(character)"
   ]
  },
  {
   "cell_type": "code",
   "execution_count": 60,
   "id": "62ff7886",
   "metadata": {},
   "outputs": [
    {
     "name": "stdout",
     "output_type": "stream",
     "text": [
      "NHkBY\n"
     ]
    }
   ],
   "source": [
    "'''\n",
    "Exercise 5: Generate  random String of length 5\n",
    "Note: String must be the combination of the UPPER case and lower case letters only. No numbers and a special symbol.\n",
    "'''\n",
    "import string\n",
    "strg=''\n",
    "for i in range(5):    \n",
    "    strg += random.choice(string.ascii_letters)\n",
    "print(strg)\n",
    "\n"
   ]
  },
  {
   "cell_type": "code",
   "execution_count": null,
   "id": "b7b0b402",
   "metadata": {},
   "outputs": [],
   "source": []
  },
  {
   "cell_type": "code",
   "execution_count": null,
   "id": "02dc2941",
   "metadata": {},
   "outputs": [],
   "source": []
  }
 ],
 "metadata": {
  "kernelspec": {
   "display_name": "Python 3",
   "language": "python",
   "name": "python3"
  },
  "language_info": {
   "codemirror_mode": {
    "name": "ipython",
    "version": 3
   },
   "file_extension": ".py",
   "mimetype": "text/x-python",
   "name": "python",
   "nbconvert_exporter": "python",
   "pygments_lexer": "ipython3",
   "version": "3.8.8"
  }
 },
 "nbformat": 4,
 "nbformat_minor": 5
}
