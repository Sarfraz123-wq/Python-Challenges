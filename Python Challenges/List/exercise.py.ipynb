{
 "cells": [
  {
   "cell_type": "code",
   "execution_count": 9,
   "id": "de8a8f0e",
   "metadata": {},
   "outputs": [
    {
     "name": "stdout",
     "output_type": "stream",
     "text": [
      "[500, 400, 300, 200, 100]\n"
     ]
    }
   ],
   "source": [
    "'''\n",
    "Exercise 1: Reverse a given list in Python\n",
    "\n",
    "aLsit = [100, 200, 300, 400, 500]\n",
    "\n",
    "Expected output:\n",
    "\n",
    "[500, 400, 300, 200, 100]\n",
    "'''\n",
    "lst = [100, 200, 300, 400, 500]\n",
    "lst = lst[::-1]\n",
    "print(lst)\n"
   ]
  },
  {
   "cell_type": "code",
   "execution_count": 21,
   "id": "c3d20fc4",
   "metadata": {
    "scrolled": true
   },
   "outputs": [
    {
     "name": "stdout",
     "output_type": "stream",
     "text": [
      "['My', 'name', 'is', 'Kelly']\n"
     ]
    }
   ],
   "source": [
    "'''\n",
    "Exercise 2: Concatenate two lists index-wise\n",
    "\n",
    "Given:\n",
    "\n",
    "list1 = [\"M\", \"na\", \"i\", \"Ke\"]\n",
    "list2 = [\"y\", \"me\", \"s\", \"lly\"]\n",
    "\n",
    "Expected output:\n",
    "\n",
    "['My', 'name', 'is', 'Kelly']\n",
    "'''\n",
    "list1 = [\"M\", \"na\", \"i\", \"Ke\"]\n",
    "list2 = [\"y\", \"me\", \"s\", \"lly\"]\n",
    "list3 = []\n",
    "\n",
    "for (i,j) in zip(list1,list2):\n",
    "    list3.append(i+j)\n",
    "print(list3)    "
   ]
  },
  {
   "cell_type": "code",
   "execution_count": 22,
   "id": "8dc6c595",
   "metadata": {},
   "outputs": [
    {
     "name": "stdout",
     "output_type": "stream",
     "text": [
      "[5, 7, 9]\n"
     ]
    }
   ],
   "source": [
    "'''\n",
    "How to add two lists element-wise in Python\n",
    "\n",
    "list1 = [1, 2, 3]\n",
    "list2 = [4, 5, 6]\n",
    "\n",
    "'''\n",
    "list1 = [1, 2, 3]\n",
    "list2 = [4, 5, 6]\n",
    "sumList = []\n",
    "for i,j in zip(list1,list2):\n",
    "    sumList.append(i+j)\n",
    "print(sumList)"
   ]
  },
  {
   "cell_type": "code",
   "execution_count": 28,
   "id": "c07f6c78",
   "metadata": {},
   "outputs": [
    {
     "name": "stdout",
     "output_type": "stream",
     "text": [
      "[1, 4, 9, 16, 25, 36, 49]\n"
     ]
    }
   ],
   "source": [
    "'''\n",
    "Exercise 3: Given a Python list of numbers. Turn every item of a list into its square\n",
    "\n",
    "Given:\n",
    "\n",
    "aList = [1, 2, 3, 4, 5, 6, 7]\n",
    "\n",
    "Expected output:\n",
    "\n",
    "[1, 4, 9, 16, 25, 36, 49]\n",
    "'''\n",
    "import math\n",
    "lst = [1, 2, 3, 4, 5, 6, 7]\n",
    "squareList = []\n",
    "for i in lst:\n",
    "    #squareList.append(i**2)\n",
    "    squareList.append(i*i)\n",
    "print(squareList)    "
   ]
  },
  {
   "cell_type": "code",
   "execution_count": 41,
   "id": "1526172a",
   "metadata": {},
   "outputs": [
    {
     "name": "stdout",
     "output_type": "stream",
     "text": [
      "['Hello ', 'Dear', 'Hello ', 'Sir', 'take ', 'Dear', 'take ', 'Sir']\n"
     ]
    }
   ],
   "source": [
    "'''\n",
    "Exercise 4: Concatenate two lists in the following order\n",
    "\n",
    "list1 = [\"Hello \", \"take \"]\n",
    "list2 = [\"Dear\", \"Sir\"]\n",
    "\n",
    "Expected output:\n",
    "\n",
    "['Hello Dear', 'Hello Sir', 'take Dear', 'take Sir']\n",
    "\n",
    "'''\n",
    "list1 = [\"Hello \", \"take \"]\n",
    "list2 = [\"Dear\", \"Sir\"]\n",
    "opLst = []\n",
    "for i in list1:\n",
    "    for j in list2:\n",
    "#         print(i,j)\n",
    "        opLst.append(i)\n",
    "        opLst.append(j)\n",
    "print(opLst)"
   ]
  },
  {
   "cell_type": "code",
   "execution_count": 57,
   "id": "612453ce",
   "metadata": {},
   "outputs": [
    {
     "name": "stdout",
     "output_type": "stream",
     "text": [
      "10 400\n",
      "20 300\n",
      "30 200\n",
      "40 100\n",
      "Solution 2\n",
      "10 400\n",
      "20 300\n",
      "30 200\n",
      "40 100\n"
     ]
    }
   ],
   "source": [
    "'''\n",
    "Exercise 5: Given a two Python list. Iterate both lists simultaneously such that list1 should display item in original order and list2 in reverse order\n",
    "\n",
    "Given\n",
    "\n",
    "list1 = [10, 20, 30, 40]\n",
    "list2 = [100, 200, 300, 400]\n",
    "\n",
    "Expected output:\n",
    "\n",
    "10 400\n",
    "20 300\n",
    "30 200\n",
    "40 100\n",
    "'''\n",
    "# Solution 1\n",
    "def fun(list1,list2):\n",
    "#     list1 = [10, 20, 30, 40]\n",
    "#     list2 = [100, 200, 300, 400]\n",
    "    # opLst = []\n",
    "    list2R = list2[::-1]    \n",
    "    for i in range(len(list1)):\n",
    "        print(list1[i], end=\" \")\n",
    "        print(list2R[i])\n",
    "    # Solution 2\n",
    "    print(\"Solution 2\")\n",
    "    for (i,j) in zip(list1,list2R):\n",
    "        print(i,j)\n",
    "list1 = [10, 20, 30, 40]\n",
    "list2 = [100, 200, 300, 400]        \n",
    "fun(list1,list2)"
   ]
  },
  {
   "cell_type": "code",
   "execution_count": 12,
   "id": "6957407b",
   "metadata": {},
   "outputs": [
    {
     "name": "stdout",
     "output_type": "stream",
     "text": [
      "['Mike', 'Emma', 'Kelly', 'Brad']\n",
      "['Mike', 'Emma', 'Kelly', 'Brad']\n",
      "['Mike', 'Emma', 'Kelly', 'Brad']\n"
     ]
    }
   ],
   "source": [
    "'''\n",
    "Exercise 6: Remove empty strings from the list of strings\n",
    "\n",
    "list1 = [\"Mike\", \"\", \"Emma\", \"Kelly\", \"\", \"Brad\"]\n",
    "\n",
    "Expected output:\n",
    "\n",
    "[\"Mike\", \"Emma\", \"Kelly\", \"Brad\"]\n",
    "'''\n",
    "\n",
    "list1 = [\"Mike\", \"\", \"Emma\", \"Kelly\", \"\", \"Brad\"]\n",
    "list2 = []\n",
    "for i in range(len(list1)):    \n",
    "    if list1[i] != \"\":\n",
    "#         print(i)\n",
    "        list2.append(list1[i])\n",
    "print(list2)\n",
    "list1 = list2\n",
    "print(list1)\n",
    "\n",
    "# solution 2\n",
    "# using filter method\n",
    "list1 = (list(filter(None,list1)))\n",
    "print(list1)"
   ]
  },
  {
   "cell_type": "code",
   "execution_count": 63,
   "id": "2a4ae833",
   "metadata": {},
   "outputs": [
    {
     "name": "stdout",
     "output_type": "stream",
     "text": [
      "[5, 10, 15, 200, 25, 50, 20]\n"
     ]
    }
   ],
   "source": [
    "'''\n",
    "Exercise 9: Given a Python list, find value 20 in the list, and if it is present, replace it with 200. Only update the first occurrence of a value\n",
    "\n",
    "Given\n",
    "\n",
    "list1 = [5, 10, 15, 20, 25, 50, 20]\n",
    "\n",
    "Expected output:\n",
    "\n",
    "list1 = [5, 10, 15, 200, 25, 50, 20]\n",
    "'''\n",
    "list1 = [5, 10, 15, 20, 25, 50, 20]\n",
    "# for i in range(len(list1)):\n",
    "#     if list1[i] == 20:\n",
    "#         list1[i] = 200\n",
    "#         break\n",
    "# print(list1)  \n",
    "\n",
    "# Solution 2\n",
    "index = list1.index(20)\n",
    "list1[index] = 200\n",
    "print(list1)"
   ]
  },
  {
   "cell_type": "code",
   "execution_count": 95,
   "id": "bc9b7d18",
   "metadata": {},
   "outputs": [
    {
     "name": "stdout",
     "output_type": "stream",
     "text": [
      "[5, 15, 25, 50]\n"
     ]
    }
   ],
   "source": [
    "'''\n",
    "Exercise 10: Given a Python list, remove all occurrence of 20 from the list\n",
    "\n",
    "list1 = [5, 20, 15, 20, 25, 50, 20]\n",
    "\n",
    "Expected output:\n",
    "\n",
    "[5, 15, 25, 50]\n",
    "'''\n",
    "\n",
    "list1 = [5, 20, 15, 20, 25, 50, 20]\n",
    "list1[:] = [i for i in list1 if i!=20]\n",
    "print(list1)"
   ]
  },
  {
   "cell_type": "code",
   "execution_count": null,
   "id": "adbaff79",
   "metadata": {},
   "outputs": [],
   "source": []
  },
  {
   "cell_type": "code",
   "execution_count": null,
   "id": "750a28a7",
   "metadata": {},
   "outputs": [],
   "source": []
  }
 ],
 "metadata": {
  "kernelspec": {
   "display_name": "Python 3",
   "language": "python",
   "name": "python3"
  }
 },
 "nbformat": 4,
 "nbformat_minor": 5
}
