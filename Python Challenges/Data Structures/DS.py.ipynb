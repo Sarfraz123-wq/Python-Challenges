{
 "cells": [
  {
   "cell_type": "code",
   "execution_count": 9,
   "id": "a0be3172",
   "metadata": {},
   "outputs": [
    {
     "name": "stdout",
     "output_type": "stream",
     "text": [
      "[6, 12, 18, 4, 12, 20, 28]\n"
     ]
    }
   ],
   "source": [
    "'''\n",
    "Exercise 1: Create a list by picking an odd-index items from the first list and even index items from the second\n",
    "'''\n",
    "# Solution 1\n",
    "# l1 = [3, 6, 9, 12, 15, 18, 21]\n",
    "# l2 = [4, 8, 12, 16, 20, 24, 28]\n",
    "# l3 = []\n",
    "# for odd in range(len(l1)):\n",
    "#     if odd %2!=0:\n",
    "#         print(l1[odd])\n",
    "#         l3.append(l1[odd])\n",
    "# print(\"-------------\")        \n",
    "# for even in range(len(l2)):\n",
    "#     if even %2==0:\n",
    "#         print(l2[even])\n",
    "#         l3.append(l2[even])     \n",
    "        \n",
    "# print(\"-------------\")          \n",
    "# print(l3)       \n",
    "# Solution 2\n",
    "def fun(lst1,lst2):\n",
    "    # l1 = [3, 6, 9, 12, 15, 18, 21]\n",
    "    # l2 = [4, 8, 12, 16, 20, 24, 28]\n",
    "    l3 = []\n",
    "    # print(l1[1:-1:2])\n",
    "    # same as\n",
    "    oddIndex = l1[1::2]\n",
    "    # print(oddIndex)\n",
    "    # simply it means start from index 1 to end and last : mention from how many steps it picks other numbers\n",
    "    # 2 means, start from index 1 then 3,5,7...\n",
    "    evenIndex = l2[0::2]\n",
    "    # l3.append(oddIndex)\n",
    "    # l3.append(evenIndex)\n",
    "    # [[4, 12, 20, 28], [6, 12, 18]] it gives l3 in this way\n",
    "    # so we have to use extend\n",
    "    l3.extend(oddIndex)\n",
    "    l3.extend(evenIndex)\n",
    "    print(l3)\n",
    "l1 = [3, 6, 9, 12, 15, 18, 21]\n",
    "l2 = [4, 8, 12, 16, 20, 24, 28]\n",
    "fun(l1,l2)"
   ]
  },
  {
   "cell_type": "code",
   "execution_count": 5,
   "id": "be5182e9",
   "metadata": {},
   "outputs": [
    {
     "name": "stdout",
     "output_type": "stream",
     "text": [
      "Chunk1 before [11, 45, 8, 23]\n",
      "Chunk1 Reversed [23, 8, 45, 11]\n",
      "Chunk2 before [14, 12, 78, 45]\n",
      "Chunk2 Reversed [45, 78, 12, 14]\n",
      "Chunk3 before [89, 10, 21, 20]\n",
      "Chunk3 Reversed [20, 21, 10, 89]\n"
     ]
    }
   ],
   "source": [
    "# Exercise 3: Slice list into 3 equal chunks and reverse each chunk\n",
    "def fun(lst):\n",
    "# sample_list = [11, 45, 8, 23, 14, 12, 78, 45, 89,10,21,20]\n",
    "\n",
    "    length = len(sample_list)\n",
    "    chunk1 = int(length/3)\n",
    "    chunk2 = chunk1 * 2\n",
    "    chunk3 = chunk1 * 3\n",
    "    l1 = sample_list[:chunk1]\n",
    "    l2 = sample_list[chunk1:chunk2]\n",
    "    l3 = sample_list[chunk2:chunk3]\n",
    "    #\n",
    "    print(\"Chunk1 before\",l1)\n",
    "    print(\"Chunk1 Reversed\",l1[::-1])\n",
    "    print(\"Chunk2 before\",l2)\n",
    "    print(\"Chunk2 Reversed\",l2[::-1])\n",
    "    print(\"Chunk3 before\",l3)\n",
    "    print(\"Chunk3 Reversed\",l3[::-1])\n",
    "    \n",
    "sample_list = [11, 45, 8, 23, 14, 12, 78, 45, 89,10,21,20]\n",
    "fun(sample_list)\n"
   ]
  },
  {
   "cell_type": "code",
   "execution_count": 14,
   "id": "98e7aea6",
   "metadata": {},
   "outputs": [
    {
     "name": "stdout",
     "output_type": "stream",
     "text": [
      "11\n",
      "45\n",
      "8\n",
      "11\n",
      "23\n",
      "45\n",
      "23\n",
      "45\n",
      "89\n"
     ]
    }
   ],
   "source": [
    "'''\n",
    "Exercise 4: Count the occurrence of each element from a list\n",
    "\n",
    "Given:\n",
    "\n",
    "sample_list = [11, 45, 8, 11, 23, 45, 23, 45, 89]\n",
    "\n",
    "Expected Output:\n",
    "\n",
    "Printing count of each item   {11: 2, 45: 3, 8: 1, 23: 2, 89: 1}\n",
    "\n",
    "'''\n",
    "# count = 0\n",
    "# dct = {}\n",
    "# sample_list = [11, 45, 8, 11, 23, 45, 23, 45, 89]\n",
    "# for i in range(len(sample_list)):\n",
    "#     print(sample_list[i])    \n"
   ]
  },
  {
   "cell_type": "code",
   "execution_count": 22,
   "id": "58474714",
   "metadata": {},
   "outputs": [
    {
     "name": "stdout",
     "output_type": "stream",
     "text": [
      "{(7, 49), (2, 4), (4, 16), (8, 64), (6, 36), (3, 9), (5, 25)}\n"
     ]
    }
   ],
   "source": [
    "'''\n",
    "Exercise 5: Create a Python set such that it shows the element from both lists in a pair\n",
    "\n",
    "Given:\n",
    "\n",
    "first_list = [2, 3, 4, 5, 6, 7, 8]\n",
    "second_list = [4, 9, 16, 25, 36, 49, 64]\n",
    "\n",
    "Expected Output:\n",
    "\n",
    "Result is  {(6, 36), (8, 64), (4, 16), (5, 25), (3, 9), (7, 49), (2, 4)}\n",
    "'''\n",
    "\n",
    "first_list = [2, 3, 4, 5, 6, 7, 8]\n",
    "second_list = [4, 9, 16, 25, 36, 49, 64]\n",
    "mySet = set()\n",
    "# print(type(mySet))\n",
    "result = zip(first_list,second_list)\n",
    "resultSet = set(result)\n",
    "print(resultSet)\n",
    "\n"
   ]
  },
  {
   "cell_type": "code",
   "execution_count": 50,
   "id": "613b1e64",
   "metadata": {},
   "outputs": [
    {
     "name": "stdout",
     "output_type": "stream",
     "text": [
      "{65, 42, 78, 23}\n"
     ]
    }
   ],
   "source": [
    "'''\n",
    "Exercise 6: Find the intersection (common) of two sets and remove those elements from the first set\n",
    "\n",
    "See: Python Set\n",
    "\n",
    "Given:\n",
    "\n",
    "first_set = {23, 42, 65, 57, 78, 83, 29}\n",
    "second_set = {57, 83, 29, 67, 73, 43, 48}\n",
    "\n",
    "Expected Output:\n",
    "\n",
    "Intersection is  {57, 83, 29}\n",
    "First Set after removing common element  {65, 42, 78, 23}\n",
    "'''\n",
    "\n",
    "first_set = {23, 42, 65, 57, 78, 83, 29}\n",
    "second_set = {57, 83, 29, 67, 73, 43, 48}\n",
    "common = first_set.intersection(second_set)\n",
    "# for i in range(len(common)):\n",
    "#     print(common[i])\n",
    "# we can't use indexing in sets\n",
    "for i in common:\n",
    "    #print(i) 57 83 29\n",
    "    first_set.remove(i)\n",
    "    \n",
    "print(first_set) "
   ]
  },
  {
   "cell_type": "code",
   "execution_count": 63,
   "id": "6dbf8ca1",
   "metadata": {},
   "outputs": [
    {
     "name": "stdout",
     "output_type": "stream",
     "text": [
      "First set is subset of second set -  True\n",
      "Second set is subset of First set - False\n",
      "First set is Super set of second set - False\n",
      "Second set is Super set of First set -  True\n",
      "set()\n",
      "{34, 43, 48, 53, 22, 27, 93}\n"
     ]
    }
   ],
   "source": [
    "'''\n",
    "Exercise 7: Checks if one set is a subset or superset of another set. If found, delete all elements from that set\n",
    "\n",
    "Given:\n",
    "\n",
    "first_set = {27, 43, 34}\n",
    "second_set = {34, 93, 22, 27, 43, 53, 48}\n",
    "\n",
    "Expected Output:\n",
    "\n",
    "First set is subset of second set - True\n",
    "Second set is subset of First set -  False\n",
    "\n",
    "First set is Super set of second set -  False\n",
    "Second set is Super set of First set -  True\n",
    "\n",
    "First Set  set()\n",
    "Second Set  {67, 73, 43, 48, 83, 57, 29}\n",
    "'''\n",
    "def sets(set1,set2):\n",
    "    \n",
    "#     first_set = {27, 43, 34}\n",
    "#     second_set = {34, 93, 22, 27, 43, 53, 48}\n",
    "\n",
    "    print(\"First set is subset of second set - \",set1.issubset(set2))\n",
    "    print(\"Second set is subset of First set -\",set2.issubset(set1))\n",
    "    print(\"First set is Super set of second set -\",set1.issuperset(set2))\n",
    "    print(\"Second set is Super set of First set - \",set2.issuperset(set1))\n",
    "    if set1.issubset(set2):\n",
    "        set1.clear()\n",
    "    elif set2.issubset(set1):\n",
    "        set2.clear()\n",
    "    print(set1)\n",
    "    print(set2)    \n",
    "  \n",
    "first_set = {27, 43, 34}\n",
    "second_set = {34, 93, 22, 27, 43, 53, 48}    \n",
    "sets(first_set,second_set)  "
   ]
  },
  {
   "cell_type": "code",
   "execution_count": 112,
   "id": "6ba2f26a",
   "metadata": {},
   "outputs": [
    {
     "name": "stdout",
     "output_type": "stream",
     "text": [
      "[47, 69, 76, 97]\n"
     ]
    }
   ],
   "source": [
    "'''\n",
    "Exercise 8: Iterate a given list and check if a given element exists as a key’s value in a dictionary. If not, delete it from the list\n",
    "\n",
    "Given:\n",
    "\n",
    "roll_number = [47, 64, 69, 37, 76, 83, 95, 97]\n",
    "sample_dict = {'Jhon':47, 'Emma':69, 'Kelly':76, 'Jason':97}\n",
    "\n",
    "Expected Outcome:\n",
    "\n",
    "After removing unwanted elements from list [47, 69, 76, 97]\n",
    "\n",
    "'''\n",
    "# Solution 1\n",
    "# roll_number = [47, 64, 69, 37, 76, 83, 95, 97]\n",
    "# sample_dict = {'Jhon':47, 'Emma':69, 'Kelly':76, 'Jason':97}\n",
    "# newRollNo = []\n",
    "# for i in roll_number:\n",
    "#     #print(sample_dict.values())\n",
    "#     #break\n",
    "#     if i in sample_dict.values():\n",
    "#         newRollNo.append(i)    \n",
    "# roll_number = newRollNo\n",
    "# del newRollNo\n",
    "# print(roll_number)\n",
    "\n",
    "# Solution 2\n",
    "roll_number = [47, 64, 69, 37, 76, 83, 95, 97]\n",
    "sample_dict = {'Jhon':47, 'Emma':69, 'Kelly':76, 'Jason':97}\n",
    "roll_number[:] = [i for i in roll_number if i in sample_dict.values()]\n",
    "print(roll_number)"
   ]
  },
  {
   "cell_type": "code",
   "execution_count": null,
   "id": "cac002b5",
   "metadata": {},
   "outputs": [],
   "source": [
    "'''\n",
    "Exercise 9: Get all values from the dictionary and add them to a list but don’t add duplicates\n",
    "\n",
    "Given:\n",
    "\n",
    "speed = {'jan': 47, 'feb': 52, 'march': 47, 'April': 44, 'May': 52, 'June': 53, 'july': 54, 'Aug': 44, 'Sept': 54}\n",
    "\n",
    "Expected Outcome:\n",
    "\n",
    "[47, 52, 44, 53, 54]\n",
    "\n",
    "'''\n",
    "\n"
   ]
  },
  {
   "cell_type": "code",
   "execution_count": 141,
   "id": "7f054ce1",
   "metadata": {},
   "outputs": [
    {
     "name": "stdout",
     "output_type": "stream",
     "text": [
      "[47, 52, 44, 53, 54]\n"
     ]
    }
   ],
   "source": [
    "speed = {'jan': 47, 'feb': 52, 'march': 47, 'April': 44, 'May': 52, 'June': 53, 'july': 54, 'Aug': 44, 'Sept': 54}\n",
    "# Solution1\n",
    "# by using set bz set does not include duplicate elements\n",
    "#mySet = set()\n",
    "# print(mySet)\n",
    "# for i in speed.values():\n",
    "#     mySet.add(i)    \n",
    "    \n",
    "# # list(mySet)    \n",
    "# # Now Working here, assign it into a variable\n",
    "# lst = list(mySet)\n",
    "# print(lst)\n",
    "# print(type(lst))\n",
    "# Solution2\n",
    "lst = []\n",
    "for i in speed.values():\n",
    "    if i not in lst:\n",
    "        lst.append(i)\n",
    "print(lst)\n",
    "\n"
   ]
  },
  {
   "cell_type": "code",
   "execution_count": 148,
   "id": "2646df71",
   "metadata": {},
   "outputs": [
    {
     "name": "stdout",
     "output_type": "stream",
     "text": [
      "{65, 99, 41, 45, 87, 94}\n",
      "[65, 99, 41, 45, 87, 94]\n"
     ]
    }
   ],
   "source": [
    "'''\n",
    "Exercise 10: Remove duplicates from a list and create a tuple and find the minimum and maximum number\n",
    "sample_list = [87, 45, 41, 65, 94, 41, 99, 94]\n",
    "\n",
    "unique items [87, 45, 41, 65, 99]\n",
    "tuple (87, 45, 41, 65, 99)\n",
    "min: 41\n",
    "max: 99\n",
    "'''\n",
    "\n",
    "sample_list = [87, 45, 41, 65, 94, 41, 99, 94]\n",
    "mySet = set()\n",
    "for i in sample_list:\n",
    "    mySet.add(i)\n",
    "print(mySet)    \n",
    "sample_list = list(mySet)\n",
    "print(sample_list)\n"
   ]
  },
  {
   "cell_type": "code",
   "execution_count": null,
   "id": "0e2d0078",
   "metadata": {},
   "outputs": [],
   "source": []
  }
 ],
 "metadata": {
  "kernelspec": {
   "display_name": "Python 3",
   "language": "python",
   "name": "python3"
  },
  "language_info": {
   "codemirror_mode": {
    "name": "ipython",
    "version": 3
   },
   "file_extension": ".py",
   "mimetype": "text/x-python",
   "name": "python",
   "nbconvert_exporter": "python",
   "pygments_lexer": "ipython3",
   "version": "3.8.8"
  }
 },
 "nbformat": 4,
 "nbformat_minor": 5
}
